{
 "cells": [
  {
   "cell_type": "code",
   "execution_count": 4,
   "metadata": {
    "collapsed": true
   },
   "outputs": [],
   "source": [
    "import networkx as nx\n",
    "import pandas as pd\n"
   ]
  },
  {
   "cell_type": "code",
   "execution_count": 5,
   "metadata": {
    "collapsed": true
   },
   "outputs": [],
   "source": [
    "def reformatdict(data):\n",
    "    allPairs=[]\n",
    "    for key in data.keys():\n",
    "        for i in range(len(data[key])-1):\n",
    "            allPairs.append((data[key][i],data[key][i+1]))\n",
    "    #get rid of duplites\n",
    "    allPairs = list(set(allPairs))\n",
    "    \n",
    "    \n",
    "    allPairs2 =[]\n",
    "    for x in allPairs:\n",
    "        allPairs2.append(list(x))\n",
    "    #allPairs.append(getGoodFormat( doug[1][key]))\n",
    "    return allPairs2"
   ]
  },
  {
   "cell_type": "code",
   "execution_count": 18,
   "metadata": {
    "collapsed": false
   },
   "outputs": [],
   "source": [
    "\n",
    "edges = pd.read_csv('./data/mergedData/averagedTripDuration.csv')\n",
    "nodes = pd.read_csv(\"./data/mergedData/nodes.csv\")\n",
    "\n",
    "nodes = nodes.drop('Unnamed: 0', axis =1)\n",
    "edges = edges.drop('Unnamed: 0', axis =1)\n",
    "edges = edges.rename(columns = {'duration': 'value'})"
   ]
  },
  {
   "cell_type": "code",
   "execution_count": 21,
   "metadata": {
    "collapsed": false
   },
   "outputs": [
    {
     "data": {
      "text/html": [
       "<div>\n",
       "<table border=\"1\" class=\"dataframe\">\n",
       "  <thead>\n",
       "    <tr style=\"text-align: right;\">\n",
       "      <th></th>\n",
       "      <th>lat</th>\n",
       "      <th>long</th>\n",
       "      <th>id</th>\n",
       "    </tr>\n",
       "  </thead>\n",
       "  <tbody>\n",
       "    <tr>\n",
       "      <th>0</th>\n",
       "      <td>40.657916</td>\n",
       "      <td>-73.925333</td>\n",
       "      <td>bu1000</td>\n",
       "    </tr>\n",
       "    <tr>\n",
       "      <th>1</th>\n",
       "      <td>40.659266</td>\n",
       "      <td>-73.927177</td>\n",
       "      <td>bu1001</td>\n",
       "    </tr>\n",
       "    <tr>\n",
       "      <th>2</th>\n",
       "      <td>40.660909</td>\n",
       "      <td>-73.929008</td>\n",
       "      <td>bu1002</td>\n",
       "    </tr>\n",
       "    <tr>\n",
       "      <th>3</th>\n",
       "      <td>40.663266</td>\n",
       "      <td>-73.931711</td>\n",
       "      <td>bu1003</td>\n",
       "    </tr>\n",
       "    <tr>\n",
       "      <th>4</th>\n",
       "      <td>40.664516</td>\n",
       "      <td>-73.937023</td>\n",
       "      <td>bu1004</td>\n",
       "    </tr>\n",
       "  </tbody>\n",
       "</table>\n",
       "</div>"
      ],
      "text/plain": [
       "         lat       long      id\n",
       "0  40.657916 -73.925333  bu1000\n",
       "1  40.659266 -73.927177  bu1001\n",
       "2  40.660909 -73.929008  bu1002\n",
       "3  40.663266 -73.931711  bu1003\n",
       "4  40.664516 -73.937023  bu1004"
      ]
     },
     "execution_count": 21,
     "metadata": {},
     "output_type": "execute_result"
    }
   ],
   "source": [
    "nodes.head()"
   ]
  },
  {
   "cell_type": "code",
   "execution_count": 22,
   "metadata": {
    "collapsed": false
   },
   "outputs": [],
   "source": [
    "\n",
    "nodesIds = nodes['id']\n",
    "G=nx.Graph()\n",
    "\n",
    "#add nodes\n",
    "G.add_nodes_from(nodes)\n",
    "\n",
    "#add edges\n",
    "for i, row in edges.iterrows():\n",
    "    G.add_edge(row['source'],row['target'],weight=row['value'])\n",
    "\n",
    "#start with random bus stop to all other stops\n",
    "nodeEdgesFrombibu4 =  nx.single_source_dijkstra(G,'bu1004')\n",
    "nodeEdges = nodeEdgesFrombibu4[1]\n",
    "nodeDistances =nodeEdgesFrombibu4[0]\n",
    "\n",
    "nodeEdges = reformatdict(nodeEdges)\n",
    "nodeEdges = pd.DataFrame(nodeEdges)\n",
    "nodeEdges.rename(columns = {0:'source',1:'target'},inplace=True)\n",
    "#nodeEdges['value'] = pd.Series(nodeDistances)\n",
    "\n",
    "seriesNodes = pd.Series(nodeDistances)\n",
    "\n",
    "vals = list(seriesNodes.values)\n",
    "keys= list(seriesNodes.index)\n",
    "newSeriesNodes= pd.DataFrame([vals,keys]).T\n",
    "newSeriesNodes.rename(columns = {0:'source',1:'target'},inplace=True)\n",
    "\n",
    "\n",
    "nodeEdges = nodeEdges.merge(newSeriesNodes, how = 'inner', left_on = 'target', right_on = 'target')\n",
    "nodeEdges.rename(columns = {'source_x' : 'source', 'source_y':'value'},inplace =True)\n"
   ]
  },
  {
   "cell_type": "code",
   "execution_count": 24,
   "metadata": {
    "collapsed": false,
    "scrolled": false
   },
   "outputs": [],
   "source": [
    "allPairsDistances = nx.all_pairs_shortest_path_length(G)  #get optimal path lengths for every pair of locations\n",
    "allPairsDistancesBig =  pd.DataFrame(allPairsDistances)\n",
    "\n",
    "cols= list(allPairsDistancesBig.columns.values)\n",
    "allPairsDistancesBig =allPairsDistancesBig.reset_index()\n",
    "allPairsGoodFormat = pd.melt(allPairsDistancesBig, id_vars = ['index'], value_vars=cols)\n",
    "\n",
    "allPairsGoodFormat.rename(columns = {'index':'source','variable':'target'},inplace =True)\n",
    "allPairsGoodFormat.to_csv('./data/mergedData/allPairDistances.csv')"
   ]
  },
  {
   "cell_type": "code",
   "execution_count": 23,
   "metadata": {
    "collapsed": false
   },
   "outputs": [
    {
     "data": {
      "text/html": [
       "<div>\n",
       "<table border=\"1\" class=\"dataframe\">\n",
       "  <thead>\n",
       "    <tr style=\"text-align: right;\">\n",
       "      <th></th>\n",
       "      <th>source</th>\n",
       "      <th>target</th>\n",
       "      <th>value</th>\n",
       "    </tr>\n",
       "  </thead>\n",
       "  <tbody>\n",
       "    <tr>\n",
       "      <th>0</th>\n",
       "      <td>butr427</td>\n",
       "      <td>bu1133</td>\n",
       "      <td>17.9435</td>\n",
       "    </tr>\n",
       "    <tr>\n",
       "      <th>1</th>\n",
       "      <td>bu3989</td>\n",
       "      <td>bu3992</td>\n",
       "      <td>55.2632</td>\n",
       "    </tr>\n",
       "    <tr>\n",
       "      <th>2</th>\n",
       "      <td>bu2378</td>\n",
       "      <td>bu2379</td>\n",
       "      <td>54.7538</td>\n",
       "    </tr>\n",
       "    <tr>\n",
       "      <th>3</th>\n",
       "      <td>butr69</td>\n",
       "      <td>butr68</td>\n",
       "      <td>13.3741</td>\n",
       "    </tr>\n",
       "    <tr>\n",
       "      <th>4</th>\n",
       "      <td>bu2107</td>\n",
       "      <td>bu2108</td>\n",
       "      <td>26.5095</td>\n",
       "    </tr>\n",
       "  </tbody>\n",
       "</table>\n",
       "</div>"
      ],
      "text/plain": [
       "    source  target    value\n",
       "0  butr427  bu1133  17.9435\n",
       "1   bu3989  bu3992  55.2632\n",
       "2   bu2378  bu2379  54.7538\n",
       "3   butr69  butr68  13.3741\n",
       "4   bu2107  bu2108  26.5095"
      ]
     },
     "execution_count": 23,
     "metadata": {},
     "output_type": "execute_result"
    }
   ],
   "source": [
    "nodeEdges.head()"
   ]
  },
  {
   "cell_type": "code",
   "execution_count": null,
   "metadata": {
    "collapsed": true
   },
   "outputs": [],
   "source": [
    "nodeEdges.to_csv('./data/mergedData/allPathsFrom.csv')\n"
   ]
  }
 ],
 "metadata": {
  "kernelspec": {
   "display_name": "Python 2",
   "language": "python",
   "name": "python2"
  },
  "language_info": {
   "codemirror_mode": {
    "name": "ipython",
    "version": 2
   },
   "file_extension": ".py",
   "mimetype": "text/x-python",
   "name": "python",
   "nbconvert_exporter": "python",
   "pygments_lexer": "ipython2",
   "version": "2.7.11"
  }
 },
 "nbformat": 4,
 "nbformat_minor": 0
}
