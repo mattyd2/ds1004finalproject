{
 "cells": [
  {
   "cell_type": "code",
   "execution_count": 5,
   "metadata": {
    "collapsed": false
   },
   "outputs": [],
   "source": [
    "import pandas as pd\n",
    "import requests\n",
    "import time"
   ]
  },
  {
   "cell_type": "markdown",
   "metadata": {},
   "source": [
    "### Create Nodes for Mapping"
   ]
  },
  {
   "cell_type": "code",
   "execution_count": 7,
   "metadata": {
    "collapsed": false
   },
   "outputs": [
    {
     "data": {
      "text/html": [
       "<div>\n",
       "<table border=\"1\" class=\"dataframe\">\n",
       "  <thead>\n",
       "    <tr style=\"text-align: right;\">\n",
       "      <th></th>\n",
       "      <th>lat</th>\n",
       "      <th>long</th>\n",
       "      <th>type</th>\n",
       "      <th>assigned</th>\n",
       "    </tr>\n",
       "  </thead>\n",
       "  <tbody>\n",
       "    <tr>\n",
       "      <th>0</th>\n",
       "      <td>40.767272</td>\n",
       "      <td>-73.993929</td>\n",
       "      <td>bikeStop</td>\n",
       "      <td>0</td>\n",
       "    </tr>\n",
       "    <tr>\n",
       "      <th>1</th>\n",
       "      <td>40.719116</td>\n",
       "      <td>-74.006667</td>\n",
       "      <td>bikeStop</td>\n",
       "      <td>1</td>\n",
       "    </tr>\n",
       "    <tr>\n",
       "      <th>2</th>\n",
       "      <td>40.711174</td>\n",
       "      <td>-74.000165</td>\n",
       "      <td>bikeStop</td>\n",
       "      <td>2</td>\n",
       "    </tr>\n",
       "    <tr>\n",
       "      <th>3</th>\n",
       "      <td>40.683826</td>\n",
       "      <td>-73.976323</td>\n",
       "      <td>bikeStop</td>\n",
       "      <td>3</td>\n",
       "    </tr>\n",
       "    <tr>\n",
       "      <th>4</th>\n",
       "      <td>40.741776</td>\n",
       "      <td>-74.001497</td>\n",
       "      <td>bikeStop</td>\n",
       "      <td>4</td>\n",
       "    </tr>\n",
       "  </tbody>\n",
       "</table>\n",
       "</div>"
      ],
      "text/plain": [
       "         lat       long      type  assigned\n",
       "0  40.767272 -73.993929  bikeStop         0\n",
       "1  40.719116 -74.006667  bikeStop         1\n",
       "2  40.711174 -74.000165  bikeStop         2\n",
       "3  40.683826 -73.976323  bikeStop         3\n",
       "4  40.741776 -74.001497  bikeStop         4"
      ]
     },
     "execution_count": 7,
     "metadata": {},
     "output_type": "execute_result"
    }
   ],
   "source": [
    "raw = pd.read_csv('/Users/matthewdunn/Dropbox/NYU/Spring2016/BigData/GroupProject/data/mta_bus/mergedbusroutes/reducedStopsRad001WithBus.csv')\n",
    "df = raw.drop(['Unnamed: 0', 'id'], axis=1)\n",
    "df.head()"
   ]
  },
  {
   "cell_type": "code",
   "execution_count": 8,
   "metadata": {
    "collapsed": false
   },
   "outputs": [
    {
     "data": {
      "text/plain": [
       "True"
      ]
     },
     "execution_count": 8,
     "metadata": {},
     "output_type": "execute_result"
    }
   ],
   "source": [
    "any(raw.id == '901N')"
   ]
  },
  {
   "cell_type": "code",
   "execution_count": 9,
   "metadata": {
    "collapsed": false
   },
   "outputs": [],
   "source": [
    "def f(x):\n",
    "     return pd.Series(dict(lat = x['lat'].mean(),\n",
    "                           long = x['long'].mean(),\n",
    "                           transtype = \"[%s]\" % ', '.join(x['type'].unique())))\n",
    "\n",
    "df = df.groupby('assigned').apply(f)"
   ]
  },
  {
   "cell_type": "code",
   "execution_count": 13,
   "metadata": {
    "collapsed": false
   },
   "outputs": [],
   "source": [
    "def concatenatorator(x):\n",
    "    x = x[1:-1]\n",
    "    x = x.split(',')\n",
    "    x = [y.strip() for y in x]\n",
    "    x.sort()\n",
    "    tmp = str()\n",
    "    for i in x:\n",
    "        if i == \"bikeStop\":\n",
    "            tmp = tmp+'bi'\n",
    "        elif i == \"busStop\":\n",
    "            tmp = tmp+'bu'\n",
    "        elif i == \"trainStop\":\n",
    "            tmp = tmp+'tr'\n",
    "    return tmp\n",
    "\n",
    "finaldf = df.copy()\n",
    "finaldf['assigned'] = df.index.values\n",
    "finaldf['convertTrans'] = finaldf['transtype'].apply(concatenatorator)\n",
    "finaldf['mikeStationId'] = finaldf['convertTrans']+finaldf['assigned'].astype(str)\n",
    "finaldf.drop(['transtype', 'convertTrans'], axis=1, inplace=True)\n",
    "finaldf.head()\n",
    "finaldf.to_csv(\"/Users/matthewdunn/Dropbox/NYU/Spring2016/BigData/GroupProject/data/nodes.csv\", index=False)"
   ]
  },
  {
   "cell_type": "markdown",
   "metadata": {
    "collapsed": false
   },
   "source": [
    "### Create Edges for Mapping"
   ]
  },
  {
   "cell_type": "code",
   "execution_count": 10,
   "metadata": {
    "collapsed": false
   },
   "outputs": [
    {
     "data": {
      "text/html": [
       "<div>\n",
       "<table border=\"1\" class=\"dataframe\">\n",
       "  <thead>\n",
       "    <tr style=\"text-align: right;\">\n",
       "      <th></th>\n",
       "      <th>id</th>\n",
       "      <th>type</th>\n",
       "      <th>assigned</th>\n",
       "      <th>mtaTypeStatId</th>\n",
       "    </tr>\n",
       "  </thead>\n",
       "  <tbody>\n",
       "    <tr>\n",
       "      <th>0</th>\n",
       "      <td>72</td>\n",
       "      <td>bi</td>\n",
       "      <td>0</td>\n",
       "      <td>bi72</td>\n",
       "    </tr>\n",
       "    <tr>\n",
       "      <th>1</th>\n",
       "      <td>79</td>\n",
       "      <td>bi</td>\n",
       "      <td>1</td>\n",
       "      <td>bi79</td>\n",
       "    </tr>\n",
       "    <tr>\n",
       "      <th>2</th>\n",
       "      <td>82</td>\n",
       "      <td>bi</td>\n",
       "      <td>2</td>\n",
       "      <td>bi82</td>\n",
       "    </tr>\n",
       "    <tr>\n",
       "      <th>3</th>\n",
       "      <td>83</td>\n",
       "      <td>bi</td>\n",
       "      <td>3</td>\n",
       "      <td>bi83</td>\n",
       "    </tr>\n",
       "    <tr>\n",
       "      <th>4</th>\n",
       "      <td>116</td>\n",
       "      <td>bi</td>\n",
       "      <td>4</td>\n",
       "      <td>bi116</td>\n",
       "    </tr>\n",
       "  </tbody>\n",
       "</table>\n",
       "</div>"
      ],
      "text/plain": [
       "    id type  assigned mtaTypeStatId\n",
       "0   72   bi         0          bi72\n",
       "1   79   bi         1          bi79\n",
       "2   82   bi         2          bi82\n",
       "3   83   bi         3          bi83\n",
       "4  116   bi         4         bi116"
      ]
     },
     "execution_count": 10,
     "metadata": {},
     "output_type": "execute_result"
    }
   ],
   "source": [
    "def concatenatorator2(x):\n",
    "    tmp = str()\n",
    "    if x == \"bikeStop\":\n",
    "        tmp = 'bi'\n",
    "    elif x == \"busStop\":\n",
    "        tmp = 'bu'\n",
    "    elif x == \"trainStop\":\n",
    "        tmp = 'tr'\n",
    "    return tmp\n",
    "\n",
    "# use the raw loaded data to create a complete list of all\n",
    "# mta station ids and mike's assigned ids\n",
    "# this is different then the groupby approach above.\n",
    "mergetable = raw.drop(['Unnamed: 0', 'lat', 'long'], axis=1)\n",
    "mergetable['type2'] = mergetable['type'].apply(concatenatorator2)\n",
    "mergetable['type'] = mergetable['type2']\n",
    "mergetable['mtaTypeStatId'] = mergetable['type']+mergetable['id'].astype(str)\n",
    "mergetable.drop('type2', axis=1, inplace=True)\n",
    "mergetable.head()"
   ]
  },
  {
   "cell_type": "code",
   "execution_count": 11,
   "metadata": {
    "collapsed": false
   },
   "outputs": [
    {
     "data": {
      "text/plain": [
       "True"
      ]
     },
     "execution_count": 11,
     "metadata": {},
     "output_type": "execute_result"
    }
   ],
   "source": [
    "any(mergetable.id == '901N')"
   ]
  },
  {
   "cell_type": "code",
   "execution_count": 14,
   "metadata": {
    "collapsed": false
   },
   "outputs": [],
   "source": [
    "# join the groupby of mikes id and the complete list of mta stations\n",
    "joined_dfs = mergetable.merge(finaldf, how='inner', on='assigned')\n",
    "joined_dfs.to_csv('/Users/matthewdunn/Dropbox/NYU/Spring2016/BigData/GroupProject/data/prepped_edges.csv', index=False)"
   ]
  },
  {
   "cell_type": "code",
   "execution_count": 15,
   "metadata": {
    "collapsed": false,
    "scrolled": true
   },
   "outputs": [
    {
     "name": "stdout",
     "output_type": "stream",
     "text": [
      "       id type  assigned mtaTypeStatId        lat       long mikeStationId\n",
      "0      72   bi         0          bi72  40.767272 -73.993929           bi0\n",
      "1      79   bi         1          bi79  40.719346 -74.006857       bibutr1\n",
      "2  401380   bu         1      bu401380  40.719346 -74.006857       bibutr1\n",
      "3     136   tr         1         tr136  40.719346 -74.006857       bibutr1\n",
      "4    136N   tr         1        tr136N  40.719346 -74.006857       bibutr1\n"
     ]
    },
    {
     "data": {
      "text/plain": [
       "(14772, 7)"
      ]
     },
     "execution_count": 15,
     "metadata": {},
     "output_type": "execute_result"
    }
   ],
   "source": [
    "print joined_dfs.head()\n",
    "joined_dfs.shape"
   ]
  },
  {
   "cell_type": "code",
   "execution_count": 16,
   "metadata": {
    "collapsed": false
   },
   "outputs": [
    {
     "data": {
      "text/html": [
       "<div>\n",
       "<table border=\"1\" class=\"dataframe\">\n",
       "  <thead>\n",
       "    <tr style=\"text-align: right;\">\n",
       "      <th></th>\n",
       "      <th>lat</th>\n",
       "      <th>long</th>\n",
       "    </tr>\n",
       "    <tr>\n",
       "      <th>mikeStationId</th>\n",
       "      <th></th>\n",
       "      <th></th>\n",
       "    </tr>\n",
       "  </thead>\n",
       "  <tbody>\n",
       "    <tr>\n",
       "      <th>bi0</th>\n",
       "      <td>40.767272</td>\n",
       "      <td>-73.993929</td>\n",
       "    </tr>\n",
       "    <tr>\n",
       "      <th>bi10</th>\n",
       "      <td>40.692395</td>\n",
       "      <td>-73.993379</td>\n",
       "    </tr>\n",
       "    <tr>\n",
       "      <th>bi103</th>\n",
       "      <td>40.703554</td>\n",
       "      <td>-74.006702</td>\n",
       "    </tr>\n",
       "    <tr>\n",
       "      <th>bi105</th>\n",
       "      <td>40.724537</td>\n",
       "      <td>-73.981854</td>\n",
       "    </tr>\n",
       "    <tr>\n",
       "      <th>bi114</th>\n",
       "      <td>40.715338</td>\n",
       "      <td>-74.016584</td>\n",
       "    </tr>\n",
       "  </tbody>\n",
       "</table>\n",
       "</div>"
      ],
      "text/plain": [
       "                     lat       long\n",
       "mikeStationId                      \n",
       "bi0            40.767272 -73.993929\n",
       "bi10           40.692395 -73.993379\n",
       "bi103          40.703554 -74.006702\n",
       "bi105          40.724537 -73.981854\n",
       "bi114          40.715338 -74.016584"
      ]
     },
     "execution_count": 16,
     "metadata": {},
     "output_type": "execute_result"
    }
   ],
   "source": [
    "joined_dfs_dropped = joined_dfs.drop(['id', 'type', 'assigned', 'mtaTypeStatId'], axis=1)\n",
    "joined_dfs_grouped = joined_dfs_dropped.groupby('mikeStationId').mean()\n",
    "joined_dfs_grouped.head()"
   ]
  },
  {
   "cell_type": "code",
   "execution_count": 19,
   "metadata": {
    "collapsed": false
   },
   "outputs": [],
   "source": [
    "import json\n",
    "import json\n",
    "from shapely.geometry import shape, Point\n",
    "with open('/Users/matthewdunn/Dropbox/NYU/Spring2016/BigData/GroupProject/nyccensustracts.json', 'r') as f:\n",
    "    js = json.load(f)\n",
    "\n",
    "\n",
    "def geocoder(lat, lon):\n",
    "    point = Point(lon, lat)\n",
    "\n",
    "    # check each polygon to see if it contains the point\n",
    "    for feature in js['features']:\n",
    "        geometry = feature.get('geometry')\n",
    "        polygon = shape(geometry)\n",
    "        if polygon.contains(point):\n",
    "                properties = feature.get('properties')\n",
    "                census_tract = properties.get('BoroCT2010')\n",
    "                return census_tract"
   ]
  },
  {
   "cell_type": "code",
   "execution_count": null,
   "metadata": {
    "collapsed": false
   },
   "outputs": [],
   "source": [
    "censustracts = []\n",
    "for i, row in joined_dfs_grouped.iterrows():\n",
    "    censustract = geocoder(row.lat, row['long'])\n",
    "    censustracts.append(censustract)\n",
    "censustracts"
   ]
  },
  {
   "cell_type": "code",
   "execution_count": null,
   "metadata": {
    "collapsed": false
   },
   "outputs": [],
   "source": [
    "allpairsBus = pd.read_csv(\"./data/allPairDistancesBusTrain.csv\")\n",
    "allpairsBus.head()"
   ]
  },
  {
   "cell_type": "code",
   "execution_count": null,
   "metadata": {
    "collapsed": false
   },
   "outputs": [],
   "source": [
    "allpairsBus_drop = allpairsBus.drop(['assigned', 'Unnamed: 0.1'], 1)\n",
    "allpairsBus_drop = allpairsBus_drop.drop([0, 1])\n",
    "cols = list(allpairsBus_drop.columns.values)\n",
    "cols = cols[1:]\n",
    "duration_df = pd.melt(allpairsBus_drop, id_vars=['Unnamed: 0'], value_vars=cols)\n",
    "duration_df.columns = ['mikestartId', 'mikeendId', 'duration']\n",
    "duration_df = duration_df[duration_df.mikestartId != duration_df.mikeendId]\n",
    "duration_df.head()"
   ]
  },
  {
   "cell_type": "code",
   "execution_count": null,
   "metadata": {
    "collapsed": false
   },
   "outputs": [],
   "source": [
    "joined_dfs_grouped['censustract'] = censustracts\n",
    "joined_dfs_grouped.head()"
   ]
  },
  {
   "cell_type": "code",
   "execution_count": 68,
   "metadata": {
    "collapsed": false
   },
   "outputs": [
    {
     "data": {
      "text/html": [
       "<div>\n",
       "<table border=\"1\" class=\"dataframe\">\n",
       "  <thead>\n",
       "    <tr style=\"text-align: right;\">\n",
       "      <th></th>\n",
       "      <th>mikestartId</th>\n",
       "      <th>mikeendId</th>\n",
       "      <th>duration</th>\n",
       "      <th>start_lat</th>\n",
       "      <th>start_long</th>\n",
       "      <th>start_censustract</th>\n",
       "    </tr>\n",
       "  </thead>\n",
       "  <tbody>\n",
       "    <tr>\n",
       "      <th>1</th>\n",
       "      <td>bibu101</td>\n",
       "      <td>bibu100</td>\n",
       "      <td>12</td>\n",
       "      <td>40.696078</td>\n",
       "      <td>-73.967684</td>\n",
       "      <td>054300</td>\n",
       "    </tr>\n",
       "    <tr>\n",
       "      <th>2</th>\n",
       "      <td>bibu106</td>\n",
       "      <td>bibu100</td>\n",
       "      <td>9</td>\n",
       "      <td>40.753307</td>\n",
       "      <td>-73.978567</td>\n",
       "      <td>009400</td>\n",
       "    </tr>\n",
       "    <tr>\n",
       "      <th>3</th>\n",
       "      <td>bibu108</td>\n",
       "      <td>bibu100</td>\n",
       "      <td>8</td>\n",
       "      <td>40.717117</td>\n",
       "      <td>-74.006062</td>\n",
       "      <td>003300</td>\n",
       "    </tr>\n",
       "    <tr>\n",
       "      <th>4</th>\n",
       "      <td>bibu109</td>\n",
       "      <td>bibu100</td>\n",
       "      <td>10</td>\n",
       "      <td>40.696508</td>\n",
       "      <td>-73.991280</td>\n",
       "      <td>000502</td>\n",
       "    </tr>\n",
       "    <tr>\n",
       "      <th>5</th>\n",
       "      <td>bibu11</td>\n",
       "      <td>bibu100</td>\n",
       "      <td>8</td>\n",
       "      <td>40.698154</td>\n",
       "      <td>-73.980527</td>\n",
       "      <td>021100</td>\n",
       "    </tr>\n",
       "  </tbody>\n",
       "</table>\n",
       "</div>"
      ],
      "text/plain": [
       "  mikestartId mikeendId  duration  start_lat  start_long start_censustract\n",
       "1     bibu101   bibu100        12  40.696078  -73.967684            054300\n",
       "2     bibu106   bibu100         9  40.753307  -73.978567            009400\n",
       "3     bibu108   bibu100         8  40.717117  -74.006062            003300\n",
       "4     bibu109   bibu100        10  40.696508  -73.991280            000502\n",
       "5      bibu11   bibu100         8  40.698154  -73.980527            021100"
      ]
     },
     "execution_count": 68,
     "metadata": {},
     "output_type": "execute_result"
    }
   ],
   "source": [
    "merged_duration = duration_df.merge(joined_dfs_grouped, how='left', left_on='mikestartId', right_index=True)\n",
    "merged_duration.columns = ['mikestartId','mikeendId','duration','start_lat','start_long','start_censustract']\n",
    "merged_duration.head()"
   ]
  },
  {
   "cell_type": "code",
   "execution_count": 69,
   "metadata": {
    "collapsed": true
   },
   "outputs": [],
   "source": [
    "merged_duration_final = merged_duration.merge(joined_dfs_grouped, how='left', left_on='mikeendId', right_index=True)"
   ]
  },
  {
   "cell_type": "code",
   "execution_count": 72,
   "metadata": {
    "collapsed": false
   },
   "outputs": [
    {
     "data": {
      "text/html": [
       "<div>\n",
       "<table border=\"1\" class=\"dataframe\">\n",
       "  <thead>\n",
       "    <tr style=\"text-align: right;\">\n",
       "      <th></th>\n",
       "      <th>mikestartId</th>\n",
       "      <th>mikeendId</th>\n",
       "      <th>duration</th>\n",
       "      <th>start_lat</th>\n",
       "      <th>start_long</th>\n",
       "      <th>start_censustract</th>\n",
       "      <th>end_lat</th>\n",
       "      <th>end_long</th>\n",
       "      <th>end_censustract</th>\n",
       "    </tr>\n",
       "  </thead>\n",
       "  <tbody>\n",
       "    <tr>\n",
       "      <th>1</th>\n",
       "      <td>bibu101</td>\n",
       "      <td>bibu100</td>\n",
       "      <td>12</td>\n",
       "      <td>40.696078</td>\n",
       "      <td>-73.967684</td>\n",
       "      <td>054300</td>\n",
       "      <td>40.721974</td>\n",
       "      <td>-73.988963</td>\n",
       "      <td>003001</td>\n",
       "    </tr>\n",
       "    <tr>\n",
       "      <th>2</th>\n",
       "      <td>bibu106</td>\n",
       "      <td>bibu100</td>\n",
       "      <td>9</td>\n",
       "      <td>40.753307</td>\n",
       "      <td>-73.978567</td>\n",
       "      <td>009400</td>\n",
       "      <td>40.721974</td>\n",
       "      <td>-73.988963</td>\n",
       "      <td>003001</td>\n",
       "    </tr>\n",
       "    <tr>\n",
       "      <th>3</th>\n",
       "      <td>bibu108</td>\n",
       "      <td>bibu100</td>\n",
       "      <td>8</td>\n",
       "      <td>40.717117</td>\n",
       "      <td>-74.006062</td>\n",
       "      <td>003300</td>\n",
       "      <td>40.721974</td>\n",
       "      <td>-73.988963</td>\n",
       "      <td>003001</td>\n",
       "    </tr>\n",
       "    <tr>\n",
       "      <th>4</th>\n",
       "      <td>bibu109</td>\n",
       "      <td>bibu100</td>\n",
       "      <td>10</td>\n",
       "      <td>40.696508</td>\n",
       "      <td>-73.991280</td>\n",
       "      <td>000502</td>\n",
       "      <td>40.721974</td>\n",
       "      <td>-73.988963</td>\n",
       "      <td>003001</td>\n",
       "    </tr>\n",
       "    <tr>\n",
       "      <th>5</th>\n",
       "      <td>bibu11</td>\n",
       "      <td>bibu100</td>\n",
       "      <td>8</td>\n",
       "      <td>40.698154</td>\n",
       "      <td>-73.980527</td>\n",
       "      <td>021100</td>\n",
       "      <td>40.721974</td>\n",
       "      <td>-73.988963</td>\n",
       "      <td>003001</td>\n",
       "    </tr>\n",
       "  </tbody>\n",
       "</table>\n",
       "</div>"
      ],
      "text/plain": [
       "  mikestartId mikeendId  duration  start_lat  start_long start_censustract  \\\n",
       "1     bibu101   bibu100        12  40.696078  -73.967684            054300   \n",
       "2     bibu106   bibu100         9  40.753307  -73.978567            009400   \n",
       "3     bibu108   bibu100         8  40.717117  -74.006062            003300   \n",
       "4     bibu109   bibu100        10  40.696508  -73.991280            000502   \n",
       "5      bibu11   bibu100         8  40.698154  -73.980527            021100   \n",
       "\n",
       "     end_lat   end_long end_censustract  \n",
       "1  40.721974 -73.988963          003001  \n",
       "2  40.721974 -73.988963          003001  \n",
       "3  40.721974 -73.988963          003001  \n",
       "4  40.721974 -73.988963          003001  \n",
       "5  40.721974 -73.988963          003001  "
      ]
     },
     "execution_count": 72,
     "metadata": {},
     "output_type": "execute_result"
    }
   ],
   "source": [
    "merged_duration_final.columns = ['mikestartId','mikeendId','duration','start_lat','start_long','start_censustract','end_lat','end_long','end_censustract']\n",
    "merged_duration_final.head()"
   ]
  },
  {
   "cell_type": "code",
   "execution_count": 65,
   "metadata": {
    "collapsed": true
   },
   "outputs": [],
   "source": [
    "from haversine import haversine\n",
    "def manhattandist(start_lat, start_lon, end_lat, end_lon):\n",
    "    start_station_location = (start_lat, start_lon)\n",
    "    end_station_location = (end_lat, end_lon)\n",
    "    return haversine(start_station_location, end_station_location, miles=True)"
   ]
  },
  {
   "cell_type": "code",
   "execution_count": 84,
   "metadata": {
    "collapsed": false
   },
   "outputs": [
    {
     "data": {
      "text/plain": [
       "56874222"
      ]
     },
     "execution_count": 84,
     "metadata": {},
     "output_type": "execute_result"
    }
   ],
   "source": [
    "distances = []\n",
    "for i, row in merged_duration_final.iterrows():\n",
    "    distance = manhattandist(row.start_lat, row.start_long, row.end_lat, row.end_long)\n",
    "    distances.append(distance)\n",
    "len(distances)"
   ]
  },
  {
   "cell_type": "code",
   "execution_count": 85,
   "metadata": {
    "collapsed": false
   },
   "outputs": [
    {
     "data": {
      "text/html": [
       "<div>\n",
       "<table border=\"1\" class=\"dataframe\">\n",
       "  <thead>\n",
       "    <tr style=\"text-align: right;\">\n",
       "      <th></th>\n",
       "      <th>mikestartId</th>\n",
       "      <th>mikeendId</th>\n",
       "      <th>duration</th>\n",
       "      <th>start_lat</th>\n",
       "      <th>start_long</th>\n",
       "      <th>start_censustract</th>\n",
       "      <th>end_lat</th>\n",
       "      <th>end_long</th>\n",
       "      <th>end_censustract</th>\n",
       "      <th>distance</th>\n",
       "    </tr>\n",
       "  </thead>\n",
       "  <tbody>\n",
       "    <tr>\n",
       "      <th>1</th>\n",
       "      <td>bibu101</td>\n",
       "      <td>bibu100</td>\n",
       "      <td>12</td>\n",
       "      <td>40.696078</td>\n",
       "      <td>-73.967684</td>\n",
       "      <td>054300</td>\n",
       "      <td>40.721974</td>\n",
       "      <td>-73.988963</td>\n",
       "      <td>003001</td>\n",
       "      <td>2.107982</td>\n",
       "    </tr>\n",
       "    <tr>\n",
       "      <th>2</th>\n",
       "      <td>bibu106</td>\n",
       "      <td>bibu100</td>\n",
       "      <td>9</td>\n",
       "      <td>40.753307</td>\n",
       "      <td>-73.978567</td>\n",
       "      <td>009400</td>\n",
       "      <td>40.721974</td>\n",
       "      <td>-73.988963</td>\n",
       "      <td>003001</td>\n",
       "      <td>2.232244</td>\n",
       "    </tr>\n",
       "    <tr>\n",
       "      <th>3</th>\n",
       "      <td>bibu108</td>\n",
       "      <td>bibu100</td>\n",
       "      <td>8</td>\n",
       "      <td>40.717117</td>\n",
       "      <td>-74.006062</td>\n",
       "      <td>003300</td>\n",
       "      <td>40.721974</td>\n",
       "      <td>-73.988963</td>\n",
       "      <td>003001</td>\n",
       "      <td>0.956258</td>\n",
       "    </tr>\n",
       "    <tr>\n",
       "      <th>4</th>\n",
       "      <td>bibu109</td>\n",
       "      <td>bibu100</td>\n",
       "      <td>10</td>\n",
       "      <td>40.696508</td>\n",
       "      <td>-73.991280</td>\n",
       "      <td>000502</td>\n",
       "      <td>40.721974</td>\n",
       "      <td>-73.988963</td>\n",
       "      <td>003001</td>\n",
       "      <td>1.763686</td>\n",
       "    </tr>\n",
       "    <tr>\n",
       "      <th>5</th>\n",
       "      <td>bibu11</td>\n",
       "      <td>bibu100</td>\n",
       "      <td>8</td>\n",
       "      <td>40.698154</td>\n",
       "      <td>-73.980527</td>\n",
       "      <td>021100</td>\n",
       "      <td>40.721974</td>\n",
       "      <td>-73.988963</td>\n",
       "      <td>003001</td>\n",
       "      <td>1.704060</td>\n",
       "    </tr>\n",
       "  </tbody>\n",
       "</table>\n",
       "</div>"
      ],
      "text/plain": [
       "  mikestartId mikeendId  duration  start_lat  start_long start_censustract  \\\n",
       "1     bibu101   bibu100        12  40.696078  -73.967684            054300   \n",
       "2     bibu106   bibu100         9  40.753307  -73.978567            009400   \n",
       "3     bibu108   bibu100         8  40.717117  -74.006062            003300   \n",
       "4     bibu109   bibu100        10  40.696508  -73.991280            000502   \n",
       "5      bibu11   bibu100         8  40.698154  -73.980527            021100   \n",
       "\n",
       "     end_lat   end_long end_censustract  distance  \n",
       "1  40.721974 -73.988963          003001  2.107982  \n",
       "2  40.721974 -73.988963          003001  2.232244  \n",
       "3  40.721974 -73.988963          003001  0.956258  \n",
       "4  40.721974 -73.988963          003001  1.763686  \n",
       "5  40.721974 -73.988963          003001  1.704060  "
      ]
     },
     "execution_count": 85,
     "metadata": {},
     "output_type": "execute_result"
    }
   ],
   "source": [
    "merged_duration_final['distance'] = distances\n",
    "merged_duration_final.head()"
   ]
  },
  {
   "cell_type": "code",
   "execution_count": null,
   "metadata": {
    "collapsed": true
   },
   "outputs": [],
   "source": [
    "merged_duration_final.shape"
   ]
  },
  {
   "cell_type": "code",
   "execution_count": null,
   "metadata": {
    "collapsed": true
   },
   "outputs": [],
   "source": [
    "merged_duration_final.to_csv('/Users/matthewdunn/Dropbox/NYU/Spring2016/BigData/GroupProject/data/mikeCTsAvgLatLonDist.csv')"
   ]
  },
  {
   "cell_type": "markdown",
   "metadata": {},
   "source": [
    "## Now Create the Bus Sheet for Map Reduce"
   ]
  },
  {
   "cell_type": "code",
   "execution_count": null,
   "metadata": {
    "collapsed": true
   },
   "outputs": [],
   "source": [
    "merged_raw = pd.read_csv('/Users/matthewdunn/Dropbox/NYU/Spring2016/BigData/GroupProject/data/mta_bus/mergedRoutesStops.csv')"
   ]
  },
  {
   "cell_type": "code",
   "execution_count": null,
   "metadata": {
    "collapsed": false
   },
   "outputs": [],
   "source": [
    "merged_raw.shape"
   ]
  },
  {
   "cell_type": "code",
   "execution_count": null,
   "metadata": {
    "collapsed": false
   },
   "outputs": [],
   "source": [
    "trips_dropped = merged_raw.drop(['Unnamed: 0', 'trip_id', 'start_lat', 'start_lon', 'end_lon', 'end_lat', 'arrival_time', 'departure_time'], axis=1)\n",
    "trips_dropped['end_location_id'] = trips_dropped['end_location_id'].astype(int)\n",
    "trips_dropped['start_mtaTypeStatId'] = 'bu'+trips_dropped['start_location_id'].astype(str)\n",
    "trips_dropped['end_mtaTypeStatId'] = 'bu'+trips_dropped['end_location_id'].astype(str)\n",
    "trips_dropped.drop(['end_location_id', 'start_location_id'], axis=1, inplace=True)\n",
    "print trips_dropped.head()\n",
    "trips_dropped.shape"
   ]
  },
  {
   "cell_type": "code",
   "execution_count": null,
   "metadata": {
    "collapsed": false
   },
   "outputs": [],
   "source": [
    "# Dedupe the Merge Key between MTA and Mikes ID\n",
    "joined_deduped = joined_dfs.drop_duplicates()\n",
    "print joined_deduped.head()\n",
    "# Create a Start Station Version\n",
    "startStation = joined_deduped[['mtaTypeStatId','lat','long','mikeStationId']].copy()\n",
    "startStation.columns = ['start_mtaTypeStatId','start_lat','start_long','start_mikeStationId']\n",
    "# Create an End Station Version\n",
    "endStation = joined_deduped[['mtaTypeStatId','lat','long','mikeStationId']].copy()\n",
    "endStation.columns = ['end_mtaTypeStatId','end_lat','end_long','end_mikeStationId']\n",
    "print endStation.head()"
   ]
  },
  {
   "cell_type": "code",
   "execution_count": null,
   "metadata": {
    "collapsed": false
   },
   "outputs": [],
   "source": [
    "# validating shit works\n",
    "# joined_deduped.loc[joined_deduped.id == '901N']\n",
    "# print any(joined_deduped.mtaTypeStatId == 'bu901N')\n",
    "# print any(startStation.start_mtaTypeStatId == '901N')"
   ]
  },
  {
   "cell_type": "code",
   "execution_count": null,
   "metadata": {
    "collapsed": false
   },
   "outputs": [],
   "source": [
    "final = pd.merge(trips_dropped, startStation, on='start_mtaTypeStatId', how='left')\n",
    "final2 = final.merge(endStation, how='left', left_on='end_mtaTypeStatId', right_on='end_mtaTypeStatId')\n",
    "final2.shape"
   ]
  },
  {
   "cell_type": "code",
   "execution_count": null,
   "metadata": {
    "collapsed": false
   },
   "outputs": [],
   "source": [
    "fianl2_dropped = final2.drop(['start_mtaTypeStatId', 'end_mtaTypeStatId', 'start_lat', 'start_long','end_lat', 'end_long'], axis=1)\n",
    "print fianl2_dropped.head()\n",
    "print fianl2_dropped.shape"
   ]
  },
  {
   "cell_type": "code",
   "execution_count": null,
   "metadata": {
    "collapsed": false
   },
   "outputs": [],
   "source": [
    "fianl2_dropped['key'] = fianl2_dropped['start_mikeStationId']+'_'+fianl2_dropped['end_mikeStationId']\n",
    "mapreduce = fianl2_dropped.drop(['start_mikeStationId', 'end_mikeStationId'], axis=1)\n",
    "mapreduce = mapreduce[['key', 'duration']]\n",
    "mapreduce['duration'] = mapreduce['duration']*60\n",
    "print mapreduce.head()\n",
    "print mapreduce.shape\n",
    "mapreduce.to_csv('/Users/matthewdunn/Dropbox/NYU/Spring2016/BigData/GroupProject/data/mta_bus/mapreduce.csv', index=False, header=False)"
   ]
  },
  {
   "cell_type": "markdown",
   "metadata": {},
   "source": [
    "### Used to write out small sample files"
   ]
  },
  {
   "cell_type": "code",
   "execution_count": null,
   "metadata": {
    "collapsed": false
   },
   "outputs": [],
   "source": [
    "shorter = pd.read_csv('/Users/matthewdunn/Dropbox/NYU/Spring2016/BigData/GroupProject/data/allPairDistancesBusTrain.csv', nrows=100)"
   ]
  },
  {
   "cell_type": "code",
   "execution_count": null,
   "metadata": {
    "collapsed": true
   },
   "outputs": [],
   "source": [
    "shorter.to_csv('/Users/matthewdunn/Dropbox/NYU/Spring2016/BigData/GroupProject/data/allPairDistancesBusTrain_100.csv', index=False)"
   ]
  },
  {
   "cell_type": "markdown",
   "metadata": {
    "collapsed": true
   },
   "source": [
    "## Now Create the Train Sheet for Map Reduce"
   ]
  },
  {
   "cell_type": "code",
   "execution_count": null,
   "metadata": {
    "collapsed": false
   },
   "outputs": [],
   "source": [
    "merged_raw_train = pd.read_csv('/Users/matthewdunn/Dropbox/NYU/Spring2016/BigData/GroupProject/data/mta_train/mergedTrainRoutesStops.csv')"
   ]
  },
  {
   "cell_type": "code",
   "execution_count": null,
   "metadata": {
    "collapsed": false
   },
   "outputs": [],
   "source": [
    "merged_raw_train.shape"
   ]
  },
  {
   "cell_type": "code",
   "execution_count": null,
   "metadata": {
    "collapsed": false
   },
   "outputs": [],
   "source": [
    "trips_dropped_train = merged_raw_train.drop(['Unnamed: 0', 'trip_id', 'start_lat', 'start_lon', 'end_lon', 'end_lat', 'arrival_time', 'departure_time'], axis=1)\n",
    "# trips_dropped_train['end_location_id'] = trips_dropped_train['end_location_id'].astype(int)\n",
    "trips_dropped_train['start_mtaTypeStatId'] = 'tr'+trips_dropped_train['start_location_id'].astype(str)\n",
    "trips_dropped_train['end_mtaTypeStatId'] = 'tr'+trips_dropped_train['end_location_id'].astype(str)\n",
    "trips_dropped_train.drop(['end_location_id', 'start_location_id'], axis=1, inplace=True)\n",
    "print trips_dropped_train.head()\n",
    "print trips_dropped_train.shape"
   ]
  },
  {
   "cell_type": "code",
   "execution_count": null,
   "metadata": {
    "collapsed": false
   },
   "outputs": [],
   "source": [
    "any(joined_dfs.mtaTypeStatId == 'tr901N')"
   ]
  },
  {
   "cell_type": "code",
   "execution_count": null,
   "metadata": {
    "collapsed": false
   },
   "outputs": [],
   "source": [
    "final_train = pd.merge(trips_dropped_train, startStation, on='start_mtaTypeStatId', how='left')\n",
    "final2_train = final_train.merge(endStation, how='left', left_on='end_mtaTypeStatId', right_on='end_mtaTypeStatId')\n",
    "final2_train.shape"
   ]
  },
  {
   "cell_type": "code",
   "execution_count": null,
   "metadata": {
    "collapsed": false
   },
   "outputs": [],
   "source": [
    "fianl2_train_dropped = final2_train.drop(['start_mtaTypeStatId', 'end_mtaTypeStatId', 'start_lat', 'start_long','end_lat', 'end_long'], axis=1)\n",
    "print fianl2_train_dropped.head()\n",
    "print fianl2_train_dropped.shape"
   ]
  },
  {
   "cell_type": "code",
   "execution_count": null,
   "metadata": {
    "collapsed": false
   },
   "outputs": [],
   "source": [
    "fianl2_train_dropped['key'] = fianl2_train_dropped['start_mikeStationId']+'_'+fianl2_train_dropped['end_mikeStationId']\n",
    "mapreduce_train = fianl2_train_dropped.drop(['start_mikeStationId', 'end_mikeStationId'], axis=1)\n",
    "mapreduce_train = mapreduce_train[['key', 'duration']]\n",
    "mapreduce_train['duration'] = mapreduce_train['duration']*60\n",
    "print mapreduce_train.head()\n",
    "print mapreduce_train.shape\n",
    "mapreduce_train.to_csv('/Users/matthewdunn/Dropbox/NYU/Spring2016/BigData/GroupProject/data/mta_train/mapreduce.csv', index=False, header=False)"
   ]
  },
  {
   "cell_type": "code",
   "execution_count": null,
   "metadata": {
    "collapsed": false
   },
   "outputs": [],
   "source": [
    "bus_train_map_reduce = pd.concat([mapreduce_train, mapreduce], ignore_index=True)"
   ]
  },
  {
   "cell_type": "code",
   "execution_count": null,
   "metadata": {
    "collapsed": false
   },
   "outputs": [],
   "source": [
    "print bus_train_map_reduce.head()\n",
    "print bus_train_map_reduce.shape\n",
    "bus_train_map_reduce.to_csv('/Users/matthewdunn/Dropbox/NYU/Spring2016/BigData/GroupProject/data/bus_train_mapreduce.csv', index=False, header=False)"
   ]
  },
  {
   "cell_type": "code",
   "execution_count": null,
   "metadata": {
    "collapsed": true
   },
   "outputs": [],
   "source": []
  }
 ],
 "metadata": {
  "kernelspec": {
   "display_name": "Python 2",
   "language": "python",
   "name": "python2"
  },
  "language_info": {
   "codemirror_mode": {
    "name": "ipython",
    "version": 2
   },
   "file_extension": ".py",
   "mimetype": "text/x-python",
   "name": "python",
   "nbconvert_exporter": "python",
   "pygments_lexer": "ipython2",
   "version": "2.7.11"
  }
 },
 "nbformat": 4,
 "nbformat_minor": 0
}
