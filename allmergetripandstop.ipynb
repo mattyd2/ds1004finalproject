{
 "cells": [
  {
   "cell_type": "code",
   "execution_count": 122,
   "metadata": {
    "collapsed": true
   },
   "outputs": [],
   "source": [
    "import pandas as pd\n",
    "import numpy as np\n"
   ]
  },
  {
   "cell_type": "code",
   "execution_count": 123,
   "metadata": {
    "collapsed": true
   },
   "outputs": [],
   "source": [
    "def reformat(data):\n",
    "    '''\n",
    "    wrangle stop Times data to get start and stop times between each stop\n",
    "    '''\n",
    "    \n",
    "    reformattedData =  data.copy()\n",
    "    tempTime= data['departure_time'].ix[1:].values\n",
    "    times = pd.Series(tempTime)\n",
    "    times.append(pd.Series(['2']))\n",
    "\n",
    "    tempSequence = data['stop_sequence'].ix[1:].values\n",
    "    sequence= pd.Series(tempSequence)\n",
    "    sequence.append(pd.Series(['2']))\n",
    "\n",
    "    start_id = data['stop_id'].ix[1:].values\n",
    "    ids = pd.Series(start_id)\n",
    "    ids.append(pd.Series(['2']))\n",
    "\n",
    "    reformattedData['stop_sequence2'] =sequence\n",
    "    reformattedData['departure_time'] = times\n",
    "    reformattedData['stop_id'] = ids\n",
    "    reformattedData['start_id'] = data['stop_id']\n",
    "    \n",
    "    goodIndexes = (reformattedData['stop_sequence'] +1 == reformattedData['stop_sequence2'])\n",
    "    reformattedData = reformattedData[goodIndexes]\n",
    "    return reformattedData\n",
    "     \n",
    "    "
   ]
  },
  {
   "cell_type": "code",
   "execution_count": 124,
   "metadata": {
    "collapsed": true
   },
   "outputs": [],
   "source": [
    "#helper functions for cleaning up time when day changes\n",
    "def hh_mm_ss2seconds(hh_mm_ss):\n",
    "    return reduce(lambda acc, x: acc*60 + x, map(int, hh_mm_ss.split(':')))\n",
    "\n",
    "def cleanTimes(t):\n",
    "    '''\n",
    "    input: duration\n",
    "    output: if duration < 0 , adds 24 hrs \n",
    "    '''\n",
    "    if t<0:\n",
    "        return t+ 24*60*60\n",
    "    else :\n",
    "        return t"
   ]
  },
  {
   "cell_type": "code",
   "execution_count": 125,
   "metadata": {
    "collapsed": false
   },
   "outputs": [],
   "source": [
    "#bus data for stops and stop times\n",
    "brookStopTimes = pd.read_csv(\"/home/michael/Desktop/bigDataProject/finalVersion/data/rawData/bus/google_transit_brooklyn/stop_times.txt\")\n",
    "queensStopTimes = pd.read_csv(\"/home/michael/Desktop/bigDataProject/finalVersion/data/rawData/bus/google_transit_queens/stop_times.txt\")\n",
    "bronxStopTimes = pd.read_csv(\"/home/michael/Desktop/bigDataProject/finalVersion/data/rawData/bus/google_transit_bronx/stop_times.txt\")\n",
    "manhattanStopTimes = pd.read_csv(\"/home/michael/Desktop/bigDataProject/finalVersion/data/rawData/bus/google_transit_manhattan/stop_times.txt\")\n",
    "statStopTimes = pd.read_csv(\"/home/michael/Desktop/bigDataProject/finalVersion/data/rawData/bus/google_transit_staten_island/stop_times.txt\")\n",
    "\n",
    "\n",
    "brookStops = pd.read_csv(\"/home/michael/Desktop/bigDataProject/finalVersion/data/rawData/bus/google_transit_brooklyn/stops.txt\")\n",
    "queensStops = pd.read_csv(\"/home/michael/Desktop/bigDataProject/finalVersion/data/rawData/bus/google_transit_queens/stops.txt\")\n",
    "bronxStops = pd.read_csv(\"/home/michael/Desktop/bigDataProject/finalVersion/data/rawData/bus/google_transit_bronx/stops.txt\")\n",
    "manhattanStops = pd.read_csv(\"/home/michael/Desktop/bigDataProject/finalVersion/data/rawData/bus/google_transit_manhattan/stops.txt\")\n",
    "statStops = pd.read_csv(\"/home/michael/Desktop/bigDataProject/finalVersion/data/rawData/bus/google_transit_staten_island/stops.txt\")\n",
    "\n",
    "\n",
    "\n",
    "#all train data\n",
    "stopTimes = pd.read_csv(\"trainData/stop_times.txt\")\n",
    "stops = pd.read_csv(\"trainData/stops.txt\")\n",
    "routes = pd.read_csv(\"trainData/routes.txt\")\n",
    "trips = pd.read_csv(\"trainData/trips.txt\")\n",
    "allRoutesTrain['type']=\"train\"\n",
    "\n",
    "\n",
    "#clean busTrips and trainTrips\n",
    "bronx= reformat(bronxStopTimes)\n",
    "stat= reformat(statStopTimes)\n",
    "man =reformat(manhattanStopTimes)\n",
    "queens = reformat(queensStopTimes)\n",
    "brook = reformat(brookStopTimes)\n",
    "allRoutesTrain = reformat(stopTimes)\n",
    "\n",
    "\n",
    "allRoutesBus = pd.concat([bronx,stat,man,queens,brook])\n",
    "allRoutesBus['type']=\"bus\""
   ]
  },
  {
   "cell_type": "code",
   "execution_count": 127,
   "metadata": {
    "collapsed": true
   },
   "outputs": [],
   "source": [
    "\n",
    "busStops= pd.concat([brookStops,queensStops,bronxStops,manhattanStops,statStops])\n",
    "busStops['type']=\"bus\"\n",
    "stops['type']=\"train\"\n",
    "\n"
   ]
  },
  {
   "cell_type": "code",
   "execution_count": 128,
   "metadata": {
    "collapsed": false
   },
   "outputs": [],
   "source": [
    "#combine all bus and train stops/trips\n",
    "allStops = pd.concat([stops,busStops])\n",
    "allRoutes = pd.concat([allRoutesTrain,allRoutesBus])\n",
    "\n"
   ]
  },
  {
   "cell_type": "code",
   "execution_count": 131,
   "metadata": {
    "collapsed": false
   },
   "outputs": [],
   "source": [
    "\n",
    "result = pd.merge(allRoutes, allStops, on='stop_id')\n",
    "result.rename(columns = {'stop_lat':'dropoff_latitude' , 'stop_lon':'dropoff_longitude'}, inplace = True)\n",
    "result2 = pd.merge(result, allStops, left_on='start_id',right_on='stop_id')\n",
    "result2.rename(columns = {'stop_lat':'pickup_latitude' , 'stop_lon':'pickup_longitude'}, inplace = True)\n",
    "result2= result2[['trip_id','stop_id_x','start_id','type','arrival_time','departure_time']]\n",
    "result2.rename(columns = {'start_id':'mta_start_id','stop_id_x':'mta_stop_id'}, inplace = True)\n",
    "\n"
   ]
  },
  {
   "cell_type": "code",
   "execution_count": 134,
   "metadata": {
    "collapsed": false
   },
   "outputs": [
    {
     "data": {
      "text/html": [
       "<div>\n",
       "<table border=\"1\" class=\"dataframe\">\n",
       "  <thead>\n",
       "    <tr style=\"text-align: right;\">\n",
       "      <th></th>\n",
       "      <th>trip_id</th>\n",
       "      <th>mta_stop_id</th>\n",
       "      <th>mta_start_id</th>\n",
       "      <th>type</th>\n",
       "      <th>arrival_time</th>\n",
       "      <th>departure_time</th>\n",
       "      <th>duration</th>\n",
       "    </tr>\n",
       "  </thead>\n",
       "  <tbody>\n",
       "    <tr>\n",
       "      <th>0</th>\n",
       "      <td>A20151206SUN_069000_GS.N03R</td>\n",
       "      <td>902N</td>\n",
       "      <td>901N</td>\n",
       "      <td>train</td>\n",
       "      <td>11:30:00</td>\n",
       "      <td>11:31:30</td>\n",
       "      <td>1.5</td>\n",
       "    </tr>\n",
       "    <tr>\n",
       "      <th>1</th>\n",
       "      <td>A20151206SUN_070000_GS.N03R</td>\n",
       "      <td>902N</td>\n",
       "      <td>901N</td>\n",
       "      <td>train</td>\n",
       "      <td>11:40:00</td>\n",
       "      <td>11:41:30</td>\n",
       "      <td>1.5</td>\n",
       "    </tr>\n",
       "    <tr>\n",
       "      <th>2</th>\n",
       "      <td>A20151206SUN_071000_GS.N03R</td>\n",
       "      <td>902N</td>\n",
       "      <td>901N</td>\n",
       "      <td>train</td>\n",
       "      <td>11:50:00</td>\n",
       "      <td>11:51:30</td>\n",
       "      <td>1.5</td>\n",
       "    </tr>\n",
       "    <tr>\n",
       "      <th>3</th>\n",
       "      <td>A20151206SUN_072000_GS.N03R</td>\n",
       "      <td>902N</td>\n",
       "      <td>901N</td>\n",
       "      <td>train</td>\n",
       "      <td>12:00:00</td>\n",
       "      <td>12:01:30</td>\n",
       "      <td>1.5</td>\n",
       "    </tr>\n",
       "    <tr>\n",
       "      <th>4</th>\n",
       "      <td>A20151206SUN_073000_GS.N03R</td>\n",
       "      <td>902N</td>\n",
       "      <td>901N</td>\n",
       "      <td>train</td>\n",
       "      <td>12:10:00</td>\n",
       "      <td>12:11:30</td>\n",
       "      <td>1.5</td>\n",
       "    </tr>\n",
       "  </tbody>\n",
       "</table>\n",
       "</div>"
      ],
      "text/plain": [
       "                       trip_id mta_stop_id mta_start_id   type arrival_time  \\\n",
       "0  A20151206SUN_069000_GS.N03R        902N         901N  train     11:30:00   \n",
       "1  A20151206SUN_070000_GS.N03R        902N         901N  train     11:40:00   \n",
       "2  A20151206SUN_071000_GS.N03R        902N         901N  train     11:50:00   \n",
       "3  A20151206SUN_072000_GS.N03R        902N         901N  train     12:00:00   \n",
       "4  A20151206SUN_073000_GS.N03R        902N         901N  train     12:10:00   \n",
       "\n",
       "  departure_time  duration  \n",
       "0       11:31:30       1.5  \n",
       "1       11:41:30       1.5  \n",
       "2       11:51:30       1.5  \n",
       "3       12:01:30       1.5  \n",
       "4       12:11:30       1.5  "
      ]
     },
     "execution_count": 134,
     "metadata": {},
     "output_type": "execute_result"
    }
   ],
   "source": [
    "#compute duration of trip\n",
    "times = pd.DataFrame()\n",
    "times['ar'] = result2['arrival_time'].apply(lambda x:hh_mm_ss2seconds(x) )\n",
    "times['de'] = result2['departure_time'].apply(lambda x:hh_mm_ss2seconds(x) )\n",
    "times['dif']= times['de']-times['ar']\n",
    "#handle case where time stamp switched between days\n",
    "result2['duration'] = times['dif'].apply(lambda x: cleanTimes(x)/60.)\n"
   ]
  },
  {
   "cell_type": "code",
   "execution_count": 135,
   "metadata": {
    "collapsed": false
   },
   "outputs": [],
   "source": [
    "result2 = result2[['mta_stop_id','mta_stop_id','type','duration']]\n",
    "result2.to_csv('/home/michael/Desktop/bigDataProject/finalVersion/data/mergedData/busTrainTrips.csv')"
   ]
  },
  {
   "cell_type": "code",
   "execution_count": 136,
   "metadata": {
    "collapsed": false,
    "scrolled": true
   },
   "outputs": [],
   "source": [
    "allStops.rename(columns = {'stop_id':'id','stop_lat':'lat','stop_lon':'long'}, inplace = True)\n",
    "allStops =allStops[['id','lat','long','type']]\n"
   ]
  },
  {
   "cell_type": "code",
   "execution_count": 137,
   "metadata": {
    "collapsed": false
   },
   "outputs": [],
   "source": [
    "allStops.to_csv('/home/michael/Desktop/bigDataProject/finalVersion/data/mergedData/busTrainStops.csv')"
   ]
  },
  {
   "cell_type": "code",
   "execution_count": 140,
   "metadata": {
    "collapsed": true
   },
   "outputs": [],
   "source": [
    "def stopReducer(data,radius):\n",
    "    '''\n",
    "    performs one pass through the stop locations, combining stops that are within the radius \n",
    "    (manhattan distance). If a stop is assigned it is not eligible to be assigned to a new group.\n",
    "    Basic function is to combine points that are close together\n",
    "    '''\n",
    "    reducerMap = dict()\n",
    "    \n",
    "    data['assigned'] = \"a\"\n",
    "    groupNumber =0\n",
    "    #data[mask]['assigned'].apply(lambda x:  False)\n",
    "    rowNumber = 0\n",
    "    while (data['assigned']==\"a\").sum()>0:  #continue until all of data has been assigned to a group\n",
    "        row = data.iloc[rowNumber]\n",
    "        if row['assigned']==\"a\":  # has not been assigned yet\n",
    "            \n",
    "            # create filter for \"close points\" so we don't have to look at all pairs\n",
    "            data[\"x\"] = data['lat'].apply(lambda x: np.absolute(x - row.lat))\n",
    "            data[\"y\"] = data['long'].apply(lambda x: np.absolute(x - row['long']))\n",
    "            data['L1'] = data[\"x\"] + data[\"y\"]\n",
    "            mask0= data['roughLatLon']==row.roughLatLon\n",
    "            mask1 = data['L1']<radius\n",
    "            \n",
    "            #only want to combine with other points that have not been assigned\n",
    "            mask2 = data['assigned']==\"a\"\n",
    "            \n",
    "            mask3 = np.logical_and(mask1, mask2)\n",
    "            mask4 = np.logical_and(mask3,mask0)\n",
    "            \n",
    "            data.ix[mask4,'assigned']=groupNumber\n",
    "            \n",
    "            groupNumber += 1\n",
    "        rowNumber +=1\n",
    "\n",
    "    \n",
    "    return   data\n"
   ]
  },
  {
   "cell_type": "code",
   "execution_count": 142,
   "metadata": {
    "collapsed": false
   },
   "outputs": [],
   "source": [
    "allStops['assigned']=\"a\" # mark unassigned rows\n",
    "allStops['roughLat']=allStops['lat'].apply(lambda x: float(int(x*100))/100)\n",
    "allStops['roughLon']=allStops['long'].apply(lambda x: float(int(x*100))/100)\n",
    "allStops['roughLatLon']=zip(allStops['roughLat'] , allStops['roughLon'])\n",
    "allStops['assigned']=\"a\"\n",
    "\n",
    "a = stopReducer(allStops,.002)"
   ]
  },
  {
   "cell_type": "code",
   "execution_count": 144,
   "metadata": {
    "collapsed": false
   },
   "outputs": [],
   "source": [
    "reducedStops = a[['lat','long','type','assigned','id']]\n"
   ]
  },
  {
   "cell_type": "code",
   "execution_count": 153,
   "metadata": {
    "collapsed": false
   },
   "outputs": [],
   "source": [
    "\n",
    "def f(x):\n",
    "    return pd.Series(dict(lat=x['lat'].mean(),\n",
    "                            long=x['long'].mean(),\n",
    "                            transtype=\"[%s]\" % ', '.join(x['type'].unique())))\n",
    "\n"
   ]
  },
  {
   "cell_type": "code",
   "execution_count": 154,
   "metadata": {
    "collapsed": false
   },
   "outputs": [],
   "source": [
    "reducedStopsWithAveLatLon = reducedStops.groupby('assigned').apply(f)\n",
    "\n"
   ]
  },
  {
   "cell_type": "code",
   "execution_count": 159,
   "metadata": {
    "collapsed": false,
    "scrolled": true
   },
   "outputs": [
    {
     "data": {
      "text/html": [
       "<div>\n",
       "<table border=\"1\" class=\"dataframe\">\n",
       "  <thead>\n",
       "    <tr style=\"text-align: right;\">\n",
       "      <th></th>\n",
       "      <th>lat</th>\n",
       "      <th>long</th>\n",
       "      <th>type</th>\n",
       "      <th>assigned</th>\n",
       "      <th>id</th>\n",
       "    </tr>\n",
       "  </thead>\n",
       "  <tbody>\n",
       "    <tr>\n",
       "      <th>0</th>\n",
       "      <td>40.889248</td>\n",
       "      <td>-73.898583</td>\n",
       "      <td>train</td>\n",
       "      <td>0</td>\n",
       "      <td>101</td>\n",
       "    </tr>\n",
       "    <tr>\n",
       "      <th>1</th>\n",
       "      <td>40.889248</td>\n",
       "      <td>-73.898583</td>\n",
       "      <td>train</td>\n",
       "      <td>0</td>\n",
       "      <td>101N</td>\n",
       "    </tr>\n",
       "    <tr>\n",
       "      <th>2</th>\n",
       "      <td>40.889248</td>\n",
       "      <td>-73.898583</td>\n",
       "      <td>train</td>\n",
       "      <td>0</td>\n",
       "      <td>101S</td>\n",
       "    </tr>\n",
       "    <tr>\n",
       "      <th>3</th>\n",
       "      <td>40.884667</td>\n",
       "      <td>-73.900870</td>\n",
       "      <td>train</td>\n",
       "      <td>1</td>\n",
       "      <td>103</td>\n",
       "    </tr>\n",
       "    <tr>\n",
       "      <th>4</th>\n",
       "      <td>40.884667</td>\n",
       "      <td>-73.900870</td>\n",
       "      <td>train</td>\n",
       "      <td>1</td>\n",
       "      <td>103N</td>\n",
       "    </tr>\n",
       "  </tbody>\n",
       "</table>\n",
       "</div>"
      ],
      "text/plain": [
       "         lat       long   type assigned    id\n",
       "0  40.889248 -73.898583  train        0   101\n",
       "1  40.889248 -73.898583  train        0  101N\n",
       "2  40.889248 -73.898583  train        0  101S\n",
       "3  40.884667 -73.900870  train        1   103\n",
       "4  40.884667 -73.900870  train        1  103N"
      ]
     },
     "execution_count": 159,
     "metadata": {},
     "output_type": "execute_result"
    }
   ],
   "source": [
    "reducedStops.head()"
   ]
  },
  {
   "cell_type": "code",
   "execution_count": null,
   "metadata": {
    "collapsed": true
   },
   "outputs": [],
   "source": []
  },
  {
   "cell_type": "code",
   "execution_count": 160,
   "metadata": {
    "collapsed": false,
    "scrolled": true
   },
   "outputs": [],
   "source": [
    "reducedStopsWithAveLatLon.to_csv('/home/michael/Desktop/bigDataProject/finalVersion/data/mergedData/reducedStops.csv')"
   ]
  },
  {
   "cell_type": "code",
   "execution_count": 157,
   "metadata": {
    "collapsed": false
   },
   "outputs": [
    {
     "data": {
      "text/plain": [
       "(14443, 5)"
      ]
     },
     "execution_count": 157,
     "metadata": {},
     "output_type": "execute_result"
    }
   ],
   "source": [
    "reducedStops.shape"
   ]
  },
  {
   "cell_type": "code",
   "execution_count": null,
   "metadata": {
    "collapsed": true
   },
   "outputs": [],
   "source": []
  }
 ],
 "metadata": {
  "kernelspec": {
   "display_name": "Python 2",
   "language": "python",
   "name": "python2"
  },
  "language_info": {
   "codemirror_mode": {
    "name": "ipython",
    "version": 2
   },
   "file_extension": ".py",
   "mimetype": "text/x-python",
   "name": "python",
   "nbconvert_exporter": "python",
   "pygments_lexer": "ipython2",
   "version": "2.7.11"
  }
 },
 "nbformat": 4,
 "nbformat_minor": 0
}
