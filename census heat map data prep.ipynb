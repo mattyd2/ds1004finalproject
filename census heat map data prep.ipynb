{
 "cells": [
  {
   "cell_type": "code",
   "execution_count": 1,
   "metadata": {
    "collapsed": true
   },
   "outputs": [],
   "source": [
    "import numpy as np\n",
    "import pandas as pd"
   ]
  },
  {
   "cell_type": "code",
   "execution_count": 36,
   "metadata": {
    "collapsed": false
   },
   "outputs": [],
   "source": [
    "bus_routes = pd.read_csv('./data/mta_bus/mergedRoutesStops.csv')\n",
    "train_routes = pd.read_csv('./data/mta_train/mergedTrainRoutesStops.csv')\n",
    "# bus_routes = bus_routes.sample(n=10, axis=0)\n",
    "# train_routes = train_routes.sample(n=10, axis=0)\n",
    "bus_train_routes_map_reduce = pd.concat([bus_routes, train_routes], ignore_index=True)"
   ]
  },
  {
   "cell_type": "code",
   "execution_count": 37,
   "metadata": {
    "collapsed": false
   },
   "outputs": [
    {
     "name": "stdout",
     "output_type": "stream",
     "text": [
      "(6350563, 11)\n",
      "(514390, 11)\n",
      "(6864953, 11)\n"
     ]
    }
   ],
   "source": [
    "print bus_routes.shape\n",
    "print train_routes.shape\n",
    "print bus_train_routes_map_reduce.shape"
   ]
  },
  {
   "cell_type": "code",
   "execution_count": 38,
   "metadata": {
    "collapsed": false
   },
   "outputs": [],
   "source": [
    "bus_train_routes_map_reduce_dropped = bus_train_routes_map_reduce.drop(['Unnamed: 0', 'trip_id', 'end_location_id', 'start_location_id', 'arrival_time', 'departure_time'], axis=1)\n",
    "bus_train_routes_map_reduce_dropped['duration'] = bus_train_routes_map_reduce_dropped['duration']*60\n",
    "bus_train_routes_map_reduce_dropped.head()\n",
    "bus_train_routes_map_reduce_dropped.to_csv('./data/bus_train_routes.csv', index=False)"
   ]
  },
  {
   "cell_type": "code",
   "execution_count": 39,
   "metadata": {
    "collapsed": false
   },
   "outputs": [
    {
     "data": {
      "text/html": [
       "<div>\n",
       "<table border=\"1\" class=\"dataframe\">\n",
       "  <thead>\n",
       "    <tr style=\"text-align: right;\">\n",
       "      <th></th>\n",
       "      <th>Unnamed: 0</th>\n",
       "      <th>trip_id</th>\n",
       "      <th>end_location_id</th>\n",
       "      <th>start_location_id</th>\n",
       "      <th>start_lat</th>\n",
       "      <th>start_lon</th>\n",
       "      <th>end_lat</th>\n",
       "      <th>end_lon</th>\n",
       "      <th>arrival_time</th>\n",
       "      <th>departure_time</th>\n",
       "      <th>duration</th>\n",
       "    </tr>\n",
       "  </thead>\n",
       "  <tbody>\n",
       "    <tr>\n",
       "      <th>0</th>\n",
       "      <td>0</td>\n",
       "      <td>GH_B6-Weekday-004000_BX12_1</td>\n",
       "      <td>103795</td>\n",
       "      <td>103794</td>\n",
       "      <td>40.866287</td>\n",
       "      <td>-73.826859</td>\n",
       "      <td>40.866795</td>\n",
       "      <td>-73.82785</td>\n",
       "      <td>00:40:00</td>\n",
       "      <td>00:40:22</td>\n",
       "      <td>0.366667</td>\n",
       "    </tr>\n",
       "    <tr>\n",
       "      <th>1</th>\n",
       "      <td>1</td>\n",
       "      <td>GH_B6-Weekday-008000_BX12_2</td>\n",
       "      <td>103795</td>\n",
       "      <td>103794</td>\n",
       "      <td>40.866287</td>\n",
       "      <td>-73.826859</td>\n",
       "      <td>40.866795</td>\n",
       "      <td>-73.82785</td>\n",
       "      <td>01:20:00</td>\n",
       "      <td>01:20:27</td>\n",
       "      <td>0.450000</td>\n",
       "    </tr>\n",
       "    <tr>\n",
       "      <th>2</th>\n",
       "      <td>2</td>\n",
       "      <td>GH_B6-Weekday-141900_BX12_23</td>\n",
       "      <td>103795</td>\n",
       "      <td>103794</td>\n",
       "      <td>40.866287</td>\n",
       "      <td>-73.826859</td>\n",
       "      <td>40.866795</td>\n",
       "      <td>-73.82785</td>\n",
       "      <td>23:39:00</td>\n",
       "      <td>23:39:22</td>\n",
       "      <td>0.366667</td>\n",
       "    </tr>\n",
       "    <tr>\n",
       "      <th>3</th>\n",
       "      <td>3</td>\n",
       "      <td>GH_B6-Weekday-137400_BX12_18</td>\n",
       "      <td>103795</td>\n",
       "      <td>103794</td>\n",
       "      <td>40.866287</td>\n",
       "      <td>-73.826859</td>\n",
       "      <td>40.866795</td>\n",
       "      <td>-73.82785</td>\n",
       "      <td>22:54:00</td>\n",
       "      <td>22:54:22</td>\n",
       "      <td>0.366667</td>\n",
       "    </tr>\n",
       "    <tr>\n",
       "      <th>4</th>\n",
       "      <td>4</td>\n",
       "      <td>GH_B6-Weekday-134400_BX12_25</td>\n",
       "      <td>103795</td>\n",
       "      <td>103794</td>\n",
       "      <td>40.866287</td>\n",
       "      <td>-73.826859</td>\n",
       "      <td>40.866795</td>\n",
       "      <td>-73.82785</td>\n",
       "      <td>22:24:00</td>\n",
       "      <td>22:24:22</td>\n",
       "      <td>0.366667</td>\n",
       "    </tr>\n",
       "  </tbody>\n",
       "</table>\n",
       "</div>"
      ],
      "text/plain": [
       "   Unnamed: 0                       trip_id end_location_id start_location_id  \\\n",
       "0           0   GH_B6-Weekday-004000_BX12_1          103795            103794   \n",
       "1           1   GH_B6-Weekday-008000_BX12_2          103795            103794   \n",
       "2           2  GH_B6-Weekday-141900_BX12_23          103795            103794   \n",
       "3           3  GH_B6-Weekday-137400_BX12_18          103795            103794   \n",
       "4           4  GH_B6-Weekday-134400_BX12_25          103795            103794   \n",
       "\n",
       "   start_lat  start_lon    end_lat   end_lon arrival_time departure_time  \\\n",
       "0  40.866287 -73.826859  40.866795 -73.82785     00:40:00       00:40:22   \n",
       "1  40.866287 -73.826859  40.866795 -73.82785     01:20:00       01:20:27   \n",
       "2  40.866287 -73.826859  40.866795 -73.82785     23:39:00       23:39:22   \n",
       "3  40.866287 -73.826859  40.866795 -73.82785     22:54:00       22:54:22   \n",
       "4  40.866287 -73.826859  40.866795 -73.82785     22:24:00       22:24:22   \n",
       "\n",
       "   duration  \n",
       "0  0.366667  \n",
       "1  0.450000  \n",
       "2  0.366667  \n",
       "3  0.366667  \n",
       "4  0.366667  "
      ]
     },
     "execution_count": 39,
     "metadata": {},
     "output_type": "execute_result"
    }
   ],
   "source": [
    "bus_train_routes_map_reduce.head()"
   ]
  },
  {
   "cell_type": "code",
   "execution_count": null,
   "metadata": {
    "collapsed": true
   },
   "outputs": [],
   "source": [
    ""
   ]
  }
 ],
 "metadata": {
  "kernelspec": {
   "display_name": "Python 2",
   "language": "python",
   "name": "python2"
  },
  "language_info": {
   "codemirror_mode": {
    "name": "ipython",
    "version": 2.0
   },
   "file_extension": ".py",
   "mimetype": "text/x-python",
   "name": "python",
   "nbconvert_exporter": "python",
   "pygments_lexer": "ipython2",
   "version": "2.7.11"
  }
 },
 "nbformat": 4,
 "nbformat_minor": 0
}