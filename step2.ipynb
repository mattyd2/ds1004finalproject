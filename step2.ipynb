{
 "cells": [
  {
   "cell_type": "code",
   "execution_count": 1,
   "metadata": {
    "collapsed": false
   },
   "outputs": [],
   "source": [
    "import pandas as pd\n",
    "import requests\n",
    "import time"
   ]
  },
  {
   "cell_type": "markdown",
   "metadata": {},
   "source": [
    "### Create Nodes for Mapping"
   ]
  },
  {
   "cell_type": "code",
   "execution_count": 3,
   "metadata": {
    "collapsed": false
   },
   "outputs": [],
   "source": [
    "raw = pd.read_csv('./data/mergedData/reducedStops.csv')\n",
    "df = raw.drop(['Unnamed: 0', 'id'], axis=1)"
   ]
  },
  {
   "cell_type": "code",
   "execution_count": 5,
   "metadata": {
    "collapsed": false
   },
   "outputs": [],
   "source": [
    "# fucntion used to get summary statistics and concate station types\n",
    "def f(x):\n",
    "     return pd.Series(dict(lat = x['lat'].mean(),\n",
    "                           long = x['long'].mean(),\n",
    "                           transtype = \"[%s]\" % ', '.join(x['type'].unique())))\n",
    "\n",
    "df = df.groupby('assigned').apply(f)"
   ]
  },
  {
   "cell_type": "code",
   "execution_count": 7,
   "metadata": {
    "collapsed": false
   },
   "outputs": [],
   "source": [
    "def concatenatorator(x):\n",
    "    x = x[1:-1]\n",
    "    x = x.split(',')\n",
    "    x = [y.strip() for y in x]\n",
    "    x.sort()\n",
    "    tmp = str()\n",
    "    for i in x:\n",
    "        if i == \"bikeStop\":\n",
    "            tmp = tmp+'bi'\n",
    "        elif i == \"busStop\":\n",
    "            tmp = tmp+'bu'\n",
    "        elif i == \"trainStop\":\n",
    "            tmp = tmp+'tr'\n",
    "    return tmp\n",
    "\n",
    "finaldf = df.copy()\n",
    "finaldf['assigned'] = df.index.values\n",
    "finaldf['convertTrans'] = finaldf['transtype'].apply(concatenatorator)\n",
    "finaldf['mikeStationId'] = finaldf['convertTrans']+finaldf['assigned'].astype(str)\n",
    "finaldf.drop(['transtype', 'convertTrans'], axis=1, inplace=True)\n",
    "\n",
    "# output the nodes created from merged function to be used in Step #3\n",
    "finaldf.to_csv(\"./data/mergedData/nodes.csv\", index=False)"
   ]
  },
  {
   "cell_type": "markdown",
   "metadata": {
    "collapsed": false
   },
   "source": [
    "### Create Edges for Mapping"
   ]
  },
  {
   "cell_type": "code",
   "execution_count": 8,
   "metadata": {
    "collapsed": false
   },
   "outputs": [
    {
     "data": {
      "text/html": [
       "<div>\n",
       "<table border=\"1\" class=\"dataframe\">\n",
       "  <thead>\n",
       "    <tr style=\"text-align: right;\">\n",
       "      <th></th>\n",
       "      <th>type</th>\n",
       "      <th>assigned</th>\n",
       "      <th>id</th>\n",
       "      <th>mtaTypeStatId</th>\n",
       "    </tr>\n",
       "  </thead>\n",
       "  <tbody>\n",
       "    <tr>\n",
       "      <th>0</th>\n",
       "      <td>tr</td>\n",
       "      <td>0</td>\n",
       "      <td>101</td>\n",
       "      <td>tr101</td>\n",
       "    </tr>\n",
       "    <tr>\n",
       "      <th>1</th>\n",
       "      <td>tr</td>\n",
       "      <td>0</td>\n",
       "      <td>101N</td>\n",
       "      <td>tr101N</td>\n",
       "    </tr>\n",
       "    <tr>\n",
       "      <th>2</th>\n",
       "      <td>tr</td>\n",
       "      <td>0</td>\n",
       "      <td>101S</td>\n",
       "      <td>tr101S</td>\n",
       "    </tr>\n",
       "    <tr>\n",
       "      <th>3</th>\n",
       "      <td>tr</td>\n",
       "      <td>1</td>\n",
       "      <td>103</td>\n",
       "      <td>tr103</td>\n",
       "    </tr>\n",
       "    <tr>\n",
       "      <th>4</th>\n",
       "      <td>tr</td>\n",
       "      <td>1</td>\n",
       "      <td>103N</td>\n",
       "      <td>tr103N</td>\n",
       "    </tr>\n",
       "  </tbody>\n",
       "</table>\n",
       "</div>"
      ],
      "text/plain": [
       "  type  assigned    id mtaTypeStatId\n",
       "0   tr         0   101         tr101\n",
       "1   tr         0  101N        tr101N\n",
       "2   tr         0  101S        tr101S\n",
       "3   tr         1   103         tr103\n",
       "4   tr         1  103N        tr103N"
      ]
     },
     "execution_count": 8,
     "metadata": {},
     "output_type": "execute_result"
    }
   ],
   "source": [
    "def concatenatorator2(x):\n",
    "    tmp = str()\n",
    "    if x == \"bikeStop\":\n",
    "        tmp = 'bi'\n",
    "    elif x == \"busStop\":\n",
    "        tmp = 'bu'\n",
    "    elif x == \"trainStop\":\n",
    "        tmp = 'tr'\n",
    "    return tmp\n",
    "\n",
    "# use the raw loaded data to create a complete list of all\n",
    "# mta station ids and mike's assigned ids\n",
    "# this is different then the groupby approach above.\n",
    "mergetable = raw.drop(['Unnamed: 0', 'lat', 'long'], axis=1)\n",
    "mergetable['type2'] = mergetable['type'].apply(concatenatorator2)\n",
    "mergetable['type'] = mergetable['type2']\n",
    "mergetable['mtaTypeStatId'] = mergetable['type']+mergetable['id'].astype(str)\n",
    "mergetable.drop('type2', axis=1, inplace=True)\n",
    "mergetable.head(1)"
   ]
  },
  {
   "cell_type": "code",
   "execution_count": 9,
   "metadata": {
    "collapsed": false
   },
   "outputs": [
    {
     "name": "stderr",
     "output_type": "stream",
     "text": [
      "/home/michael/anaconda2/lib/python2.7/site-packages/IPython/core/interactiveshell.py:2902: DtypeWarning: Columns (1,2) have mixed types. Specify dtype option on import or set low_memory=False.\n",
      "  interactivity=interactivity, compiler=compiler, result=result)\n"
     ]
    }
   ],
   "source": [
    "trips = pd.read_csv('./data/mergedData/busTrainTrips.csv')\n"
   ]
  },
  {
   "cell_type": "code",
   "execution_count": 10,
   "metadata": {
    "collapsed": false
   },
   "outputs": [
    {
     "data": {
      "text/html": [
       "<div>\n",
       "<table border=\"1\" class=\"dataframe\">\n",
       "  <thead>\n",
       "    <tr style=\"text-align: right;\">\n",
       "      <th></th>\n",
       "      <th>type</th>\n",
       "      <th>assigned</th>\n",
       "      <th>id</th>\n",
       "      <th>mtaTypeStatId</th>\n",
       "      <th>lat</th>\n",
       "      <th>long</th>\n",
       "      <th>mikeStationId</th>\n",
       "    </tr>\n",
       "  </thead>\n",
       "  <tbody>\n",
       "    <tr>\n",
       "      <th>0</th>\n",
       "      <td>tr</td>\n",
       "      <td>0</td>\n",
       "      <td>101</td>\n",
       "      <td>tr101</td>\n",
       "      <td>40.889377</td>\n",
       "      <td>-73.898421</td>\n",
       "      <td>butr0</td>\n",
       "    </tr>\n",
       "    <tr>\n",
       "      <th>1</th>\n",
       "      <td>tr</td>\n",
       "      <td>0</td>\n",
       "      <td>101N</td>\n",
       "      <td>tr101N</td>\n",
       "      <td>40.889377</td>\n",
       "      <td>-73.898421</td>\n",
       "      <td>butr0</td>\n",
       "    </tr>\n",
       "    <tr>\n",
       "      <th>2</th>\n",
       "      <td>tr</td>\n",
       "      <td>0</td>\n",
       "      <td>101S</td>\n",
       "      <td>tr101S</td>\n",
       "      <td>40.889377</td>\n",
       "      <td>-73.898421</td>\n",
       "      <td>butr0</td>\n",
       "    </tr>\n",
       "    <tr>\n",
       "      <th>3</th>\n",
       "      <td>bu</td>\n",
       "      <td>0</td>\n",
       "      <td>100587</td>\n",
       "      <td>bu100587</td>\n",
       "      <td>40.889377</td>\n",
       "      <td>-73.898421</td>\n",
       "      <td>butr0</td>\n",
       "    </tr>\n",
       "    <tr>\n",
       "      <th>4</th>\n",
       "      <td>tr</td>\n",
       "      <td>1</td>\n",
       "      <td>103</td>\n",
       "      <td>tr103</td>\n",
       "      <td>40.884734</td>\n",
       "      <td>-73.900801</td>\n",
       "      <td>butr1</td>\n",
       "    </tr>\n",
       "  </tbody>\n",
       "</table>\n",
       "</div>"
      ],
      "text/plain": [
       "  type  assigned      id mtaTypeStatId        lat       long mikeStationId\n",
       "0   tr         0     101         tr101  40.889377 -73.898421         butr0\n",
       "1   tr         0    101N        tr101N  40.889377 -73.898421         butr0\n",
       "2   tr         0    101S        tr101S  40.889377 -73.898421         butr0\n",
       "3   bu         0  100587      bu100587  40.889377 -73.898421         butr0\n",
       "4   tr         1     103         tr103  40.884734 -73.900801         butr1"
      ]
     },
     "execution_count": 10,
     "metadata": {},
     "output_type": "execute_result"
    }
   ],
   "source": [
    "joined_dfs = mergetable.merge(finaldf, how='inner', on='assigned')\n",
    "joined_dfs.head(1)"
   ]
  },
  {
   "cell_type": "code",
   "execution_count": 11,
   "metadata": {
    "collapsed": false
   },
   "outputs": [],
   "source": [
    "#merge old and new id's in trips\n",
    "\n",
    "joined_dfs['id'] =joined_dfs['id'].apply(lambda x: str(x).split('.')[0])\n",
    "trips['mta_start_id'] = trips['mta_start_id'].apply(lambda x: str(x).split('.')[0])\n",
    "trips['mta_stop_id'] = trips['mta_stop_id'].apply(lambda x: str(x).split('.')[0])\n",
    "\n",
    "\n",
    "keyValuePair= joined_dfs[['id','mikeStationId']]\n",
    "keyValuePair = keyValuePair.drop_duplicates()\n",
    "ids = list(keyValuePair['id'].values)\n",
    "reducedId = list(keyValuePair['mikeStationId'].values)\n",
    "\n",
    "switchingDic = dict(zip(ids,reducedId))\n",
    "\n",
    "trips['source']=trips['mta_start_id'].apply(lambda x: switchingDic[str(x)])\n",
    "trips['target']=trips['mta_stop_id'].apply(lambda x: switchingDic[str(x)])\n"
   ]
  },
  {
   "cell_type": "code",
   "execution_count": 12,
   "metadata": {
    "collapsed": false
   },
   "outputs": [],
   "source": [
    "tripsReduced = trips[['source','target','duration']]\n",
    "tripsReduced.to_csv('./data/mergedData/reducedTrips.csv')"
   ]
  },
  {
   "cell_type": "code",
   "execution_count": 21,
   "metadata": {
    "collapsed": false
   },
   "outputs": [],
   "source": [
    "#reduce trips \n",
    "tripsReduced2 = tripsReduced.groupby(['source','target']).mean()\n",
    "tripsReduced2= tripsReduced2.reset_index()\n",
    "tripsReduced2.to_csv('./data/mergedData/averagedTripDuration.csv')"
   ]
  }
 ],
 "metadata": {
  "kernelspec": {
   "display_name": "Python 2",
   "language": "python",
   "name": "python2"
  },
  "language_info": {
   "codemirror_mode": {
    "name": "ipython",
    "version": 2
   },
   "file_extension": ".py",
   "mimetype": "text/x-python",
   "name": "python",
   "nbconvert_exporter": "python",
   "pygments_lexer": "ipython2",
   "version": "2.7.11"
  }
 },
 "nbformat": 4,
 "nbformat_minor": 0
}
