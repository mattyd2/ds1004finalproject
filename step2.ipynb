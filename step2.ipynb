{
 "cells": [
  {
   "cell_type": "code",
   "execution_count": 1,
   "metadata": {
    "collapsed": false
   },
   "outputs": [],
   "source": [
    "import pandas as pd\n",
    "import requests\n",
    "import time"
   ]
  },
  {
   "cell_type": "markdown",
   "metadata": {},
   "source": [
    "### Create Nodes for Mapping"
   ]
  },
  {
   "cell_type": "code",
   "execution_count": 3,
   "metadata": {
    "collapsed": false
   },
   "outputs": [],
   "source": [
    "raw = pd.read_csv('./data/mergedData/reducedStops.csv')\n",
    "df = raw.drop(['Unnamed: 0', 'id'], axis=1)\n"
   ]
  },
  {
   "cell_type": "code",
   "execution_count": 5,
   "metadata": {
    "collapsed": false
   },
   "outputs": [],
   "source": [
    "\n",
    "def f(x):\n",
    "     return pd.Series(dict(lat = x['lat'].mean(),\n",
    "                           long = x['long'].mean(),\n",
    "                           transtype = \"[%s]\" % ', '.join(x['type'].unique())))\n",
    "\n",
    "df = df.groupby('assigned').apply(f)"
   ]
  },
  {
   "cell_type": "code",
   "execution_count": 25,
   "metadata": {
    "collapsed": false
   },
   "outputs": [],
   "source": [
    "def concatenatorator(x):\n",
    "    x = x[1:-1]\n",
    "    x = x.split(',')\n",
    "    x = [y.strip() for y in x]\n",
    "    x.sort()\n",
    "    tmp = str()\n",
    "    for i in x:\n",
    "        if i == \"bikeStop\":\n",
    "            tmp = tmp+'bi'\n",
    "        elif i == \"busStop\":\n",
    "            tmp = tmp+'bu'\n",
    "        elif i == \"trainStop\":\n",
    "            tmp = tmp+'tr'\n",
    "    return tmp\n",
    "\n",
    "finaldf = df.copy()\n",
    "finaldf['assigned'] = df.index.values\n",
    "finaldf['convertTrans'] = finaldf['transtype'].apply(concatenatorator)\n",
    "finaldf['mikeStationId'] = finaldf['convertTrans']+finaldf['assigned'].astype(str)\n",
    "finaldf.drop(['transtype', 'convertTrans'], axis=1, inplace=True)\n",
    "#finaldf.to_csv(\"./data/mergedData/nodes.csv\", index=False)"
   ]
  },
  {
   "cell_type": "code",
   "execution_count": 27,
   "metadata": {
    "collapsed": false
   },
   "outputs": [
    {
     "data": {
      "text/html": [
       "<div>\n",
       "<table border=\"1\" class=\"dataframe\">\n",
       "  <thead>\n",
       "    <tr style=\"text-align: right;\">\n",
       "      <th></th>\n",
       "      <th>lat</th>\n",
       "      <th>long</th>\n",
       "      <th>assigned</th>\n",
       "      <th>mikeStationId</th>\n",
       "    </tr>\n",
       "    <tr>\n",
       "      <th>assigned</th>\n",
       "      <th></th>\n",
       "      <th></th>\n",
       "      <th></th>\n",
       "      <th></th>\n",
       "    </tr>\n",
       "  </thead>\n",
       "  <tbody>\n",
       "    <tr>\n",
       "      <th>0</th>\n",
       "      <td>40.889377</td>\n",
       "      <td>-73.898421</td>\n",
       "      <td>0</td>\n",
       "      <td>butr0</td>\n",
       "    </tr>\n",
       "    <tr>\n",
       "      <th>1</th>\n",
       "      <td>40.884734</td>\n",
       "      <td>-73.900801</td>\n",
       "      <td>1</td>\n",
       "      <td>butr1</td>\n",
       "    </tr>\n",
       "    <tr>\n",
       "      <th>2</th>\n",
       "      <td>40.878911</td>\n",
       "      <td>-73.904831</td>\n",
       "      <td>2</td>\n",
       "      <td>butr2</td>\n",
       "    </tr>\n",
       "    <tr>\n",
       "      <th>3</th>\n",
       "      <td>40.874548</td>\n",
       "      <td>-73.909565</td>\n",
       "      <td>3</td>\n",
       "      <td>butr3</td>\n",
       "    </tr>\n",
       "    <tr>\n",
       "      <th>4</th>\n",
       "      <td>40.869427</td>\n",
       "      <td>-73.915577</td>\n",
       "      <td>4</td>\n",
       "      <td>butr4</td>\n",
       "    </tr>\n",
       "  </tbody>\n",
       "</table>\n",
       "</div>"
      ],
      "text/plain": [
       "                lat       long  assigned mikeStationId\n",
       "assigned                                              \n",
       "0         40.889377 -73.898421         0         butr0\n",
       "1         40.884734 -73.900801         1         butr1\n",
       "2         40.878911 -73.904831         2         butr2\n",
       "3         40.874548 -73.909565         3         butr3\n",
       "4         40.869427 -73.915577         4         butr4"
      ]
     },
     "execution_count": 27,
     "metadata": {},
     "output_type": "execute_result"
    }
   ],
   "source": [
    "finaldf2 = finaldf.reset_index()\n",
    "\n",
    "finaldf.head()"
   ]
  },
  {
   "cell_type": "markdown",
   "metadata": {
    "collapsed": false
   },
   "source": [
    "### Create Edges for Mapping"
   ]
  },
  {
   "cell_type": "code",
   "execution_count": 8,
   "metadata": {
    "collapsed": false
   },
   "outputs": [
    {
     "data": {
      "text/html": [
       "<div>\n",
       "<table border=\"1\" class=\"dataframe\">\n",
       "  <thead>\n",
       "    <tr style=\"text-align: right;\">\n",
       "      <th></th>\n",
       "      <th>type</th>\n",
       "      <th>assigned</th>\n",
       "      <th>id</th>\n",
       "      <th>mtaTypeStatId</th>\n",
       "    </tr>\n",
       "  </thead>\n",
       "  <tbody>\n",
       "    <tr>\n",
       "      <th>0</th>\n",
       "      <td>tr</td>\n",
       "      <td>0</td>\n",
       "      <td>101</td>\n",
       "      <td>tr101</td>\n",
       "    </tr>\n",
       "    <tr>\n",
       "      <th>1</th>\n",
       "      <td>tr</td>\n",
       "      <td>0</td>\n",
       "      <td>101N</td>\n",
       "      <td>tr101N</td>\n",
       "    </tr>\n",
       "    <tr>\n",
       "      <th>2</th>\n",
       "      <td>tr</td>\n",
       "      <td>0</td>\n",
       "      <td>101S</td>\n",
       "      <td>tr101S</td>\n",
       "    </tr>\n",
       "    <tr>\n",
       "      <th>3</th>\n",
       "      <td>tr</td>\n",
       "      <td>1</td>\n",
       "      <td>103</td>\n",
       "      <td>tr103</td>\n",
       "    </tr>\n",
       "    <tr>\n",
       "      <th>4</th>\n",
       "      <td>tr</td>\n",
       "      <td>1</td>\n",
       "      <td>103N</td>\n",
       "      <td>tr103N</td>\n",
       "    </tr>\n",
       "  </tbody>\n",
       "</table>\n",
       "</div>"
      ],
      "text/plain": [
       "  type  assigned    id mtaTypeStatId\n",
       "0   tr         0   101         tr101\n",
       "1   tr         0  101N        tr101N\n",
       "2   tr         0  101S        tr101S\n",
       "3   tr         1   103         tr103\n",
       "4   tr         1  103N        tr103N"
      ]
     },
     "execution_count": 8,
     "metadata": {},
     "output_type": "execute_result"
    }
   ],
   "source": [
    "def concatenatorator2(x):\n",
    "    tmp = str()\n",
    "    if x == \"bikeStop\":\n",
    "        tmp = 'bi'\n",
    "    elif x == \"busStop\":\n",
    "        tmp = 'bu'\n",
    "    elif x == \"trainStop\":\n",
    "        tmp = 'tr'\n",
    "    return tmp\n",
    "\n",
    "# use the raw loaded data to create a complete list of all\n",
    "# mta station ids and mike's assigned ids\n",
    "# this is different then the groupby approach above.\n",
    "mergetable = raw.drop(['Unnamed: 0', 'lat', 'long'], axis=1)\n",
    "mergetable['type2'] = mergetable['type'].apply(concatenatorator2)\n",
    "mergetable['type'] = mergetable['type2']\n",
    "mergetable['mtaTypeStatId'] = mergetable['type']+mergetable['id'].astype(str)\n",
    "mergetable.drop('type2', axis=1, inplace=True)\n",
    "mergetable.head()"
   ]
  },
  {
   "cell_type": "code",
   "execution_count": 9,
   "metadata": {
    "collapsed": false
   },
   "outputs": [
    {
     "name": "stderr",
     "output_type": "stream",
     "text": [
      "/home/michael/anaconda2/lib/python2.7/site-packages/IPython/core/interactiveshell.py:2902: DtypeWarning: Columns (1,2) have mixed types. Specify dtype option on import or set low_memory=False.\n",
      "  interactivity=interactivity, compiler=compiler, result=result)\n"
     ]
    }
   ],
   "source": [
    "trips = pd.read_csv('./data/mergedData/busTrainTrips.csv')\n"
   ]
  },
  {
   "cell_type": "code",
   "execution_count": 10,
   "metadata": {
    "collapsed": false
   },
   "outputs": [
    {
     "data": {
      "text/html": [
       "<div>\n",
       "<table border=\"1\" class=\"dataframe\">\n",
       "  <thead>\n",
       "    <tr style=\"text-align: right;\">\n",
       "      <th></th>\n",
       "      <th>type</th>\n",
       "      <th>assigned</th>\n",
       "      <th>id</th>\n",
       "      <th>mtaTypeStatId</th>\n",
       "      <th>lat</th>\n",
       "      <th>long</th>\n",
       "      <th>mikeStationId</th>\n",
       "    </tr>\n",
       "  </thead>\n",
       "  <tbody>\n",
       "    <tr>\n",
       "      <th>0</th>\n",
       "      <td>tr</td>\n",
       "      <td>0</td>\n",
       "      <td>101</td>\n",
       "      <td>tr101</td>\n",
       "      <td>40.889377</td>\n",
       "      <td>-73.898421</td>\n",
       "      <td>butr0</td>\n",
       "    </tr>\n",
       "    <tr>\n",
       "      <th>1</th>\n",
       "      <td>tr</td>\n",
       "      <td>0</td>\n",
       "      <td>101N</td>\n",
       "      <td>tr101N</td>\n",
       "      <td>40.889377</td>\n",
       "      <td>-73.898421</td>\n",
       "      <td>butr0</td>\n",
       "    </tr>\n",
       "    <tr>\n",
       "      <th>2</th>\n",
       "      <td>tr</td>\n",
       "      <td>0</td>\n",
       "      <td>101S</td>\n",
       "      <td>tr101S</td>\n",
       "      <td>40.889377</td>\n",
       "      <td>-73.898421</td>\n",
       "      <td>butr0</td>\n",
       "    </tr>\n",
       "    <tr>\n",
       "      <th>3</th>\n",
       "      <td>bu</td>\n",
       "      <td>0</td>\n",
       "      <td>100587</td>\n",
       "      <td>bu100587</td>\n",
       "      <td>40.889377</td>\n",
       "      <td>-73.898421</td>\n",
       "      <td>butr0</td>\n",
       "    </tr>\n",
       "    <tr>\n",
       "      <th>4</th>\n",
       "      <td>tr</td>\n",
       "      <td>1</td>\n",
       "      <td>103</td>\n",
       "      <td>tr103</td>\n",
       "      <td>40.884734</td>\n",
       "      <td>-73.900801</td>\n",
       "      <td>butr1</td>\n",
       "    </tr>\n",
       "  </tbody>\n",
       "</table>\n",
       "</div>"
      ],
      "text/plain": [
       "  type  assigned      id mtaTypeStatId        lat       long mikeStationId\n",
       "0   tr         0     101         tr101  40.889377 -73.898421         butr0\n",
       "1   tr         0    101N        tr101N  40.889377 -73.898421         butr0\n",
       "2   tr         0    101S        tr101S  40.889377 -73.898421         butr0\n",
       "3   bu         0  100587      bu100587  40.889377 -73.898421         butr0\n",
       "4   tr         1     103         tr103  40.884734 -73.900801         butr1"
      ]
     },
     "execution_count": 10,
     "metadata": {},
     "output_type": "execute_result"
    }
   ],
   "source": [
    "joined_dfs = mergetable.merge(finaldf, how='inner', on='assigned')\n",
    "joined_dfs.head()"
   ]
  },
  {
   "cell_type": "code",
   "execution_count": 11,
   "metadata": {
    "collapsed": false
   },
   "outputs": [],
   "source": [
    "#merge old and new id's in trips\n",
    "\n",
    "joined_dfs['id'] =joined_dfs['id'].apply(lambda x: str(x).split('.')[0])\n",
    "trips['mta_start_id'] = trips['mta_start_id'].apply(lambda x: str(x).split('.')[0])\n",
    "trips['mta_stop_id'] = trips['mta_stop_id'].apply(lambda x: str(x).split('.')[0])\n",
    "\n",
    "\n",
    "keyValuePair= joined_dfs[['id','mikeStationId']]\n",
    "keyValuePair = keyValuePair.drop_duplicates()\n",
    "ids = list(keyValuePair['id'].values)\n",
    "reducedId = list(keyValuePair['mikeStationId'].values)\n",
    "\n",
    "switchingDic = dict(zip(ids,reducedId))\n",
    "\n",
    "trips['source']=trips['mta_start_id'].apply(lambda x: switchingDic[str(x)])\n",
    "trips['target']=trips['mta_stop_id'].apply(lambda x: switchingDic[str(x)])\n"
   ]
  },
  {
   "cell_type": "code",
   "execution_count": 12,
   "metadata": {
    "collapsed": false
   },
   "outputs": [],
   "source": [
    "tripsReduced = trips[['source','target','duration']]\n",
    "tripsReduced.to_csv('./data/mergedData/reducedTrips.csv')"
   ]
  },
  {
   "cell_type": "code",
   "execution_count": 21,
   "metadata": {
    "collapsed": false
   },
   "outputs": [],
   "source": [
    "#reduce trips \n",
    "tripsReduced2 = tripsReduced.groupby(['source','target']).mean()\n",
    "tripsReduced2= tripsReduced2.reset_index()\n",
    "tripsReduced2.to_csv('./data/mergedData/averagedTripDuration.csv')"
   ]
  },
  {
   "cell_type": "code",
   "execution_count": 120,
   "metadata": {
    "collapsed": false,
    "scrolled": true
   },
   "outputs": [
    {
     "name": "stdout",
     "output_type": "stream",
     "text": [
      "  type  assigned      id mtaTypeStatId        lat       long mikeStationId\n",
      "0   tr         0     101         tr101  40.889377 -73.898421         butr0\n",
      "1   tr         0    101N        tr101N  40.889377 -73.898421         butr0\n",
      "2   tr         0    101S        tr101S  40.889377 -73.898421         butr0\n",
      "3   bu         0  100587      bu100587  40.889377 -73.898421         butr0\n",
      "4   tr         1     103         tr103  40.884734 -73.900801         butr1\n"
     ]
    },
    {
     "data": {
      "text/html": [
       "<div>\n",
       "<table border=\"1\" class=\"dataframe\">\n",
       "  <thead>\n",
       "    <tr style=\"text-align: right;\">\n",
       "      <th></th>\n",
       "      <th>end_mtaTypeStatId</th>\n",
       "      <th>end_lat</th>\n",
       "      <th>end_long</th>\n",
       "      <th>end_mikeStationId</th>\n",
       "    </tr>\n",
       "  </thead>\n",
       "  <tbody>\n",
       "    <tr>\n",
       "      <th>0</th>\n",
       "      <td>tr101</td>\n",
       "      <td>40.889377</td>\n",
       "      <td>-73.898421</td>\n",
       "      <td>butr0</td>\n",
       "    </tr>\n",
       "    <tr>\n",
       "      <th>1</th>\n",
       "      <td>tr101N</td>\n",
       "      <td>40.889377</td>\n",
       "      <td>-73.898421</td>\n",
       "      <td>butr0</td>\n",
       "    </tr>\n",
       "    <tr>\n",
       "      <th>2</th>\n",
       "      <td>tr101S</td>\n",
       "      <td>40.889377</td>\n",
       "      <td>-73.898421</td>\n",
       "      <td>butr0</td>\n",
       "    </tr>\n",
       "    <tr>\n",
       "      <th>3</th>\n",
       "      <td>bu100587</td>\n",
       "      <td>40.889377</td>\n",
       "      <td>-73.898421</td>\n",
       "      <td>butr0</td>\n",
       "    </tr>\n",
       "    <tr>\n",
       "      <th>4</th>\n",
       "      <td>tr103</td>\n",
       "      <td>40.884734</td>\n",
       "      <td>-73.900801</td>\n",
       "      <td>butr1</td>\n",
       "    </tr>\n",
       "  </tbody>\n",
       "</table>\n",
       "</div>"
      ],
      "text/plain": [
       "  end_mtaTypeStatId    end_lat   end_long end_mikeStationId\n",
       "0             tr101  40.889377 -73.898421             butr0\n",
       "1            tr101N  40.889377 -73.898421             butr0\n",
       "2            tr101S  40.889377 -73.898421             butr0\n",
       "3          bu100587  40.889377 -73.898421             butr0\n",
       "4             tr103  40.884734 -73.900801             butr1"
      ]
     },
     "execution_count": 120,
     "metadata": {},
     "output_type": "execute_result"
    }
   ],
   "source": [
    "joined_deduped = joined_dfs.drop_duplicates()\n",
    "print joined_deduped.head()\n",
    "# Create a Start Station Version\n",
    "startStation = joined_deduped[['mtaTypeStatId','lat','long','mikeStationId']].copy()\n",
    "startStation.columns = ['start_mtaTypeStatId','start_lat','start_long','start_mikeStationId']\n",
    "# Create an End Station Version\n",
    "endStation = joined_deduped[['mtaTypeStatId','lat','long','mikeStationId']].copy()\n",
    "endStation.columns = ['end_mtaTypeStatId','end_lat','end_long','end_mikeStationId']\n",
    "endStation.head()"
   ]
  },
  {
   "cell_type": "code",
   "execution_count": null,
   "metadata": {
    "collapsed": true
   },
   "outputs": [],
   "source": []
  },
  {
   "cell_type": "code",
   "execution_count": 129,
   "metadata": {
    "collapsed": false
   },
   "outputs": [
    {
     "data": {
      "text/html": [
       "<div>\n",
       "<table border=\"1\" class=\"dataframe\">\n",
       "  <thead>\n",
       "    <tr style=\"text-align: right;\">\n",
       "      <th></th>\n",
       "      <th>Unnamed: 0</th>\n",
       "      <th>mta_stop_id</th>\n",
       "      <th>mta_start_id</th>\n",
       "      <th>type</th>\n",
       "      <th>duration</th>\n",
       "      <th>start_mtaTypeStatId</th>\n",
       "      <th>start_lat</th>\n",
       "      <th>start_long</th>\n",
       "      <th>start_mikeStationId</th>\n",
       "      <th>end_mtaTypeStatId</th>\n",
       "      <th>end_lat</th>\n",
       "      <th>end_long</th>\n",
       "      <th>end_mikeStationId</th>\n",
       "    </tr>\n",
       "  </thead>\n",
       "  <tbody>\n",
       "    <tr>\n",
       "      <th>0</th>\n",
       "      <td>0</td>\n",
       "      <td>902N</td>\n",
       "      <td>901N</td>\n",
       "      <td>trainStop</td>\n",
       "      <td>1.5</td>\n",
       "      <td>NaN</td>\n",
       "      <td>NaN</td>\n",
       "      <td>NaN</td>\n",
       "      <td>NaN</td>\n",
       "      <td>NaN</td>\n",
       "      <td>NaN</td>\n",
       "      <td>NaN</td>\n",
       "      <td>NaN</td>\n",
       "    </tr>\n",
       "  </tbody>\n",
       "</table>\n",
       "</div>"
      ],
      "text/plain": [
       "   Unnamed: 0 mta_stop_id mta_start_id       type  duration  \\\n",
       "0           0        902N         901N  trainStop       1.5   \n",
       "\n",
       "  start_mtaTypeStatId  start_lat  start_long start_mikeStationId  \\\n",
       "0                 NaN        NaN         NaN                 NaN   \n",
       "\n",
       "  end_mtaTypeStatId  end_lat  end_long end_mikeStationId  \n",
       "0               NaN      NaN       NaN               NaN  "
      ]
     },
     "execution_count": 129,
     "metadata": {},
     "output_type": "execute_result"
    }
   ],
   "source": [
    "# merge together the old and new ids\n",
    "final = pd.merge(trips, startStation, left_on=\"mta_start_id\", right_on='start_mtaTypeStatId', how='left')\n",
    "final2 = final.merge(endStation, how='left', left_on='mta_stop_id', right_on='end_mtaTypeStatId')\n",
    "final2.shape\n",
    "final2.head(1)"
   ]
  },
  {
   "cell_type": "code",
   "execution_count": 121,
   "metadata": {
    "collapsed": false
   },
   "outputs": [
    {
     "data": {
      "text/html": [
       "<div>\n",
       "<table border=\"1\" class=\"dataframe\">\n",
       "  <thead>\n",
       "    <tr style=\"text-align: right;\">\n",
       "      <th></th>\n",
       "      <th>lat</th>\n",
       "      <th>long</th>\n",
       "      <th>id</th>\n",
       "    </tr>\n",
       "  </thead>\n",
       "  <tbody>\n",
       "    <tr>\n",
       "      <th>0</th>\n",
       "      <td>40.657916</td>\n",
       "      <td>-73.925333</td>\n",
       "      <td>bu1000</td>\n",
       "    </tr>\n",
       "    <tr>\n",
       "      <th>1</th>\n",
       "      <td>40.659266</td>\n",
       "      <td>-73.927177</td>\n",
       "      <td>bu1001</td>\n",
       "    </tr>\n",
       "    <tr>\n",
       "      <th>2</th>\n",
       "      <td>40.660910</td>\n",
       "      <td>-73.929009</td>\n",
       "      <td>bu1002</td>\n",
       "    </tr>\n",
       "    <tr>\n",
       "      <th>3</th>\n",
       "      <td>40.663266</td>\n",
       "      <td>-73.931711</td>\n",
       "      <td>bu1003</td>\n",
       "    </tr>\n",
       "    <tr>\n",
       "      <th>4</th>\n",
       "      <td>40.664516</td>\n",
       "      <td>-73.937023</td>\n",
       "      <td>bu1004</td>\n",
       "    </tr>\n",
       "  </tbody>\n",
       "</table>\n",
       "</div>"
      ],
      "text/plain": [
       "         lat       long      id\n",
       "0  40.657916 -73.925333  bu1000\n",
       "1  40.659266 -73.927177  bu1001\n",
       "2  40.660910 -73.929009  bu1002\n",
       "3  40.663266 -73.931711  bu1003\n",
       "4  40.664516 -73.937023  bu1004"
      ]
     },
     "execution_count": 121,
     "metadata": {},
     "output_type": "execute_result"
    }
   ],
   "source": [
    "#joined_dfs_dropped = joined_dfs.drop(['id', 'type', 'assigned', 'mtaTypeStatId'], axis=1)\n",
    "joined_dfs_grouped = joined_dfs_dropped.groupby('mikeStationId').mean()\n",
    "joined_dfs_grouped['id'] = joined_dfs_grouped.index\n",
    "joined_dfs_grouped = joined_dfs_grouped.reset_index()\n",
    "joined_dfs_grouped.drop(['mikeStationId'],axis =1, inplace =True)\n",
    "joined_dfs_grouped.to_csv('./data/mergedData/nodes.csv')\n",
    "joined_dfs_grouped.head()\n"
   ]
  },
  {
   "cell_type": "markdown",
   "metadata": {},
   "source": [
    "# NOTES\n",
    "At this point we ran a map-reduce algorithm , busReduceTripsmap.py and busReduce.py to first map old station id's to reducedStationId's and then compute average trip duration between every pair of reducedStationID's\n"
   ]
  },
  {
   "cell_type": "code",
   "execution_count": 79,
   "metadata": {
    "collapsed": false,
    "scrolled": true
   },
   "outputs": [
    {
     "ename": "IOError",
     "evalue": "[Errno 2] No such file or directory: '/Users/matthewdunn/Dropbox/NYU/Spring2016/BigData/GroupProject/nyccensustracts.json'",
     "output_type": "error",
     "traceback": [
      "\u001b[1;31m---------------------------------------------------------------------------\u001b[0m",
      "\u001b[1;31mIOError\u001b[0m                                   Traceback (most recent call last)",
      "\u001b[1;32m<ipython-input-79-302e3ac79bab>\u001b[0m in \u001b[0;36m<module>\u001b[1;34m()\u001b[0m\n\u001b[0;32m      2\u001b[0m \u001b[1;32mimport\u001b[0m \u001b[0mjson\u001b[0m\u001b[1;33m\u001b[0m\u001b[0m\n\u001b[0;32m      3\u001b[0m \u001b[1;32mfrom\u001b[0m \u001b[0mshapely\u001b[0m\u001b[1;33m.\u001b[0m\u001b[0mgeometry\u001b[0m \u001b[1;32mimport\u001b[0m \u001b[0mshape\u001b[0m\u001b[1;33m,\u001b[0m \u001b[0mPoint\u001b[0m\u001b[1;33m\u001b[0m\u001b[0m\n\u001b[1;32m----> 4\u001b[1;33m \u001b[1;32mwith\u001b[0m \u001b[0mopen\u001b[0m\u001b[1;33m(\u001b[0m\u001b[1;34m'/Users/matthewdunn/Dropbox/NYU/Spring2016/BigData/GroupProject/nyccensustracts.json'\u001b[0m\u001b[1;33m,\u001b[0m \u001b[1;34m'r'\u001b[0m\u001b[1;33m)\u001b[0m \u001b[1;32mas\u001b[0m \u001b[0mf\u001b[0m\u001b[1;33m:\u001b[0m\u001b[1;33m\u001b[0m\u001b[0m\n\u001b[0m\u001b[0;32m      5\u001b[0m     \u001b[0mjs\u001b[0m \u001b[1;33m=\u001b[0m \u001b[0mjson\u001b[0m\u001b[1;33m.\u001b[0m\u001b[0mload\u001b[0m\u001b[1;33m(\u001b[0m\u001b[0mf\u001b[0m\u001b[1;33m)\u001b[0m\u001b[1;33m\u001b[0m\u001b[0m\n\u001b[0;32m      6\u001b[0m \u001b[1;33m\u001b[0m\u001b[0m\n",
      "\u001b[1;31mIOError\u001b[0m: [Errno 2] No such file or directory: '/Users/matthewdunn/Dropbox/NYU/Spring2016/BigData/GroupProject/nyccensustracts.json'"
     ]
    }
   ],
   "source": [
    "import json\n",
    "import json\n",
    "from shapely.geometry import shape, Point\n",
    "with open('/Users/matthewdunn/Dropbox/NYU/Spring2016/BigData/GroupProject/nyccensustracts.json', 'r') as f:\n",
    "    js = json.load(f)\n",
    "\n",
    "\n",
    "def geocoder(lat, lon):\n",
    "    point = Point(lon, lat)\n",
    "\n",
    "    # check each polygon to see if it contains the point\n",
    "    for feature in js['features']:\n",
    "        geometry = feature.get('geometry')\n",
    "        polygon = shape(geometry)\n",
    "        if polygon.contains(point):\n",
    "                properties = feature.get('properties')\n",
    "                census_tract = properties.get('BoroCT2010')\n",
    "                return census_tract"
   ]
  },
  {
   "cell_type": "code",
   "execution_count": null,
   "metadata": {
    "collapsed": false
   },
   "outputs": [],
   "source": [
    "censustracts = []\n",
    "for i, row in joined_dfs_grouped.iterrows():\n",
    "    censustract = geocoder(row.lat, row['long'])\n",
    "    censustracts.append(censustract)\n",
    "censustracts"
   ]
  },
  {
   "cell_type": "code",
   "execution_count": null,
   "metadata": {
    "collapsed": false
   },
   "outputs": [],
   "source": [
    "allpairsBus = pd.read_csv(\"./data/allPairDistancesBusTrain.csv\")\n",
    "allpairsBus.head()"
   ]
  },
  {
   "cell_type": "code",
   "execution_count": null,
   "metadata": {
    "collapsed": false
   },
   "outputs": [],
   "source": [
    "allpairsBus_drop = allpairsBus.drop(['assigned', 'Unnamed: 0.1'], 1)\n",
    "allpairsBus_drop = allpairsBus_drop.drop([0, 1])\n",
    "cols = list(allpairsBus_drop.columns.values)\n",
    "cols = cols[1:]\n",
    "duration_df = pd.melt(allpairsBus_drop, id_vars=['Unnamed: 0'], value_vars=cols)\n",
    "duration_df.columns = ['mikestartId', 'mikeendId', 'duration']\n",
    "duration_df = duration_df[duration_df.mikestartId != duration_df.mikeendId]\n",
    "duration_df.head()"
   ]
  },
  {
   "cell_type": "code",
   "execution_count": null,
   "metadata": {
    "collapsed": false
   },
   "outputs": [],
   "source": [
    "joined_dfs_grouped['censustract'] = censustracts\n",
    "joined_dfs_grouped.head()"
   ]
  },
  {
   "cell_type": "code",
   "execution_count": 68,
   "metadata": {
    "collapsed": false
   },
   "outputs": [
    {
     "data": {
      "text/html": [
       "<div>\n",
       "<table border=\"1\" class=\"dataframe\">\n",
       "  <thead>\n",
       "    <tr style=\"text-align: right;\">\n",
       "      <th></th>\n",
       "      <th>mikestartId</th>\n",
       "      <th>mikeendId</th>\n",
       "      <th>duration</th>\n",
       "      <th>start_lat</th>\n",
       "      <th>start_long</th>\n",
       "      <th>start_censustract</th>\n",
       "    </tr>\n",
       "  </thead>\n",
       "  <tbody>\n",
       "    <tr>\n",
       "      <th>1</th>\n",
       "      <td>bibu101</td>\n",
       "      <td>bibu100</td>\n",
       "      <td>12</td>\n",
       "      <td>40.696078</td>\n",
       "      <td>-73.967684</td>\n",
       "      <td>054300</td>\n",
       "    </tr>\n",
       "    <tr>\n",
       "      <th>2</th>\n",
       "      <td>bibu106</td>\n",
       "      <td>bibu100</td>\n",
       "      <td>9</td>\n",
       "      <td>40.753307</td>\n",
       "      <td>-73.978567</td>\n",
       "      <td>009400</td>\n",
       "    </tr>\n",
       "    <tr>\n",
       "      <th>3</th>\n",
       "      <td>bibu108</td>\n",
       "      <td>bibu100</td>\n",
       "      <td>8</td>\n",
       "      <td>40.717117</td>\n",
       "      <td>-74.006062</td>\n",
       "      <td>003300</td>\n",
       "    </tr>\n",
       "    <tr>\n",
       "      <th>4</th>\n",
       "      <td>bibu109</td>\n",
       "      <td>bibu100</td>\n",
       "      <td>10</td>\n",
       "      <td>40.696508</td>\n",
       "      <td>-73.991280</td>\n",
       "      <td>000502</td>\n",
       "    </tr>\n",
       "    <tr>\n",
       "      <th>5</th>\n",
       "      <td>bibu11</td>\n",
       "      <td>bibu100</td>\n",
       "      <td>8</td>\n",
       "      <td>40.698154</td>\n",
       "      <td>-73.980527</td>\n",
       "      <td>021100</td>\n",
       "    </tr>\n",
       "  </tbody>\n",
       "</table>\n",
       "</div>"
      ],
      "text/plain": [
       "  mikestartId mikeendId  duration  start_lat  start_long start_censustract\n",
       "1     bibu101   bibu100        12  40.696078  -73.967684            054300\n",
       "2     bibu106   bibu100         9  40.753307  -73.978567            009400\n",
       "3     bibu108   bibu100         8  40.717117  -74.006062            003300\n",
       "4     bibu109   bibu100        10  40.696508  -73.991280            000502\n",
       "5      bibu11   bibu100         8  40.698154  -73.980527            021100"
      ]
     },
     "execution_count": 68,
     "metadata": {},
     "output_type": "execute_result"
    }
   ],
   "source": [
    "merged_duration = duration_df.merge(joined_dfs_grouped, how='left', left_on='mikestartId', right_index=True)\n",
    "merged_duration.columns = ['mikestartId','mikeendId','duration','start_lat','start_long','start_censustract']\n",
    "merged_duration.head()"
   ]
  },
  {
   "cell_type": "code",
   "execution_count": 69,
   "metadata": {
    "collapsed": true
   },
   "outputs": [],
   "source": [
    "merged_duration_final = merged_duration.merge(joined_dfs_grouped, how='left', left_on='mikeendId', right_index=True)"
   ]
  },
  {
   "cell_type": "code",
   "execution_count": 72,
   "metadata": {
    "collapsed": false
   },
   "outputs": [
    {
     "data": {
      "text/html": [
       "<div>\n",
       "<table border=\"1\" class=\"dataframe\">\n",
       "  <thead>\n",
       "    <tr style=\"text-align: right;\">\n",
       "      <th></th>\n",
       "      <th>mikestartId</th>\n",
       "      <th>mikeendId</th>\n",
       "      <th>duration</th>\n",
       "      <th>start_lat</th>\n",
       "      <th>start_long</th>\n",
       "      <th>start_censustract</th>\n",
       "      <th>end_lat</th>\n",
       "      <th>end_long</th>\n",
       "      <th>end_censustract</th>\n",
       "    </tr>\n",
       "  </thead>\n",
       "  <tbody>\n",
       "    <tr>\n",
       "      <th>1</th>\n",
       "      <td>bibu101</td>\n",
       "      <td>bibu100</td>\n",
       "      <td>12</td>\n",
       "      <td>40.696078</td>\n",
       "      <td>-73.967684</td>\n",
       "      <td>054300</td>\n",
       "      <td>40.721974</td>\n",
       "      <td>-73.988963</td>\n",
       "      <td>003001</td>\n",
       "    </tr>\n",
       "    <tr>\n",
       "      <th>2</th>\n",
       "      <td>bibu106</td>\n",
       "      <td>bibu100</td>\n",
       "      <td>9</td>\n",
       "      <td>40.753307</td>\n",
       "      <td>-73.978567</td>\n",
       "      <td>009400</td>\n",
       "      <td>40.721974</td>\n",
       "      <td>-73.988963</td>\n",
       "      <td>003001</td>\n",
       "    </tr>\n",
       "    <tr>\n",
       "      <th>3</th>\n",
       "      <td>bibu108</td>\n",
       "      <td>bibu100</td>\n",
       "      <td>8</td>\n",
       "      <td>40.717117</td>\n",
       "      <td>-74.006062</td>\n",
       "      <td>003300</td>\n",
       "      <td>40.721974</td>\n",
       "      <td>-73.988963</td>\n",
       "      <td>003001</td>\n",
       "    </tr>\n",
       "    <tr>\n",
       "      <th>4</th>\n",
       "      <td>bibu109</td>\n",
       "      <td>bibu100</td>\n",
       "      <td>10</td>\n",
       "      <td>40.696508</td>\n",
       "      <td>-73.991280</td>\n",
       "      <td>000502</td>\n",
       "      <td>40.721974</td>\n",
       "      <td>-73.988963</td>\n",
       "      <td>003001</td>\n",
       "    </tr>\n",
       "    <tr>\n",
       "      <th>5</th>\n",
       "      <td>bibu11</td>\n",
       "      <td>bibu100</td>\n",
       "      <td>8</td>\n",
       "      <td>40.698154</td>\n",
       "      <td>-73.980527</td>\n",
       "      <td>021100</td>\n",
       "      <td>40.721974</td>\n",
       "      <td>-73.988963</td>\n",
       "      <td>003001</td>\n",
       "    </tr>\n",
       "  </tbody>\n",
       "</table>\n",
       "</div>"
      ],
      "text/plain": [
       "  mikestartId mikeendId  duration  start_lat  start_long start_censustract  \\\n",
       "1     bibu101   bibu100        12  40.696078  -73.967684            054300   \n",
       "2     bibu106   bibu100         9  40.753307  -73.978567            009400   \n",
       "3     bibu108   bibu100         8  40.717117  -74.006062            003300   \n",
       "4     bibu109   bibu100        10  40.696508  -73.991280            000502   \n",
       "5      bibu11   bibu100         8  40.698154  -73.980527            021100   \n",
       "\n",
       "     end_lat   end_long end_censustract  \n",
       "1  40.721974 -73.988963          003001  \n",
       "2  40.721974 -73.988963          003001  \n",
       "3  40.721974 -73.988963          003001  \n",
       "4  40.721974 -73.988963          003001  \n",
       "5  40.721974 -73.988963          003001  "
      ]
     },
     "execution_count": 72,
     "metadata": {},
     "output_type": "execute_result"
    }
   ],
   "source": [
    "merged_duration_final.columns = ['mikestartId','mikeendId','duration','start_lat','start_long','start_censustract','end_lat','end_long','end_censustract']\n",
    "merged_duration_final.head()"
   ]
  },
  {
   "cell_type": "code",
   "execution_count": 65,
   "metadata": {
    "collapsed": true
   },
   "outputs": [],
   "source": [
    "from haversine import haversine\n",
    "def manhattandist(start_lat, start_lon, end_lat, end_lon):\n",
    "    start_station_location = (start_lat, start_lon)\n",
    "    end_station_location = (end_lat, end_lon)\n",
    "    return haversine(start_station_location, end_station_location, miles=True)"
   ]
  },
  {
   "cell_type": "code",
   "execution_count": 84,
   "metadata": {
    "collapsed": false
   },
   "outputs": [
    {
     "data": {
      "text/plain": [
       "56874222"
      ]
     },
     "execution_count": 84,
     "metadata": {},
     "output_type": "execute_result"
    }
   ],
   "source": [
    "distances = []\n",
    "for i, row in merged_duration_final.iterrows():\n",
    "    distance = manhattandist(row.start_lat, row.start_long, row.end_lat, row.end_long)\n",
    "    distances.append(distance)\n",
    "len(distances)"
   ]
  },
  {
   "cell_type": "code",
   "execution_count": 85,
   "metadata": {
    "collapsed": false
   },
   "outputs": [
    {
     "data": {
      "text/html": [
       "<div>\n",
       "<table border=\"1\" class=\"dataframe\">\n",
       "  <thead>\n",
       "    <tr style=\"text-align: right;\">\n",
       "      <th></th>\n",
       "      <th>mikestartId</th>\n",
       "      <th>mikeendId</th>\n",
       "      <th>duration</th>\n",
       "      <th>start_lat</th>\n",
       "      <th>start_long</th>\n",
       "      <th>start_censustract</th>\n",
       "      <th>end_lat</th>\n",
       "      <th>end_long</th>\n",
       "      <th>end_censustract</th>\n",
       "      <th>distance</th>\n",
       "    </tr>\n",
       "  </thead>\n",
       "  <tbody>\n",
       "    <tr>\n",
       "      <th>1</th>\n",
       "      <td>bibu101</td>\n",
       "      <td>bibu100</td>\n",
       "      <td>12</td>\n",
       "      <td>40.696078</td>\n",
       "      <td>-73.967684</td>\n",
       "      <td>054300</td>\n",
       "      <td>40.721974</td>\n",
       "      <td>-73.988963</td>\n",
       "      <td>003001</td>\n",
       "      <td>2.107982</td>\n",
       "    </tr>\n",
       "    <tr>\n",
       "      <th>2</th>\n",
       "      <td>bibu106</td>\n",
       "      <td>bibu100</td>\n",
       "      <td>9</td>\n",
       "      <td>40.753307</td>\n",
       "      <td>-73.978567</td>\n",
       "      <td>009400</td>\n",
       "      <td>40.721974</td>\n",
       "      <td>-73.988963</td>\n",
       "      <td>003001</td>\n",
       "      <td>2.232244</td>\n",
       "    </tr>\n",
       "    <tr>\n",
       "      <th>3</th>\n",
       "      <td>bibu108</td>\n",
       "      <td>bibu100</td>\n",
       "      <td>8</td>\n",
       "      <td>40.717117</td>\n",
       "      <td>-74.006062</td>\n",
       "      <td>003300</td>\n",
       "      <td>40.721974</td>\n",
       "      <td>-73.988963</td>\n",
       "      <td>003001</td>\n",
       "      <td>0.956258</td>\n",
       "    </tr>\n",
       "    <tr>\n",
       "      <th>4</th>\n",
       "      <td>bibu109</td>\n",
       "      <td>bibu100</td>\n",
       "      <td>10</td>\n",
       "      <td>40.696508</td>\n",
       "      <td>-73.991280</td>\n",
       "      <td>000502</td>\n",
       "      <td>40.721974</td>\n",
       "      <td>-73.988963</td>\n",
       "      <td>003001</td>\n",
       "      <td>1.763686</td>\n",
       "    </tr>\n",
       "    <tr>\n",
       "      <th>5</th>\n",
       "      <td>bibu11</td>\n",
       "      <td>bibu100</td>\n",
       "      <td>8</td>\n",
       "      <td>40.698154</td>\n",
       "      <td>-73.980527</td>\n",
       "      <td>021100</td>\n",
       "      <td>40.721974</td>\n",
       "      <td>-73.988963</td>\n",
       "      <td>003001</td>\n",
       "      <td>1.704060</td>\n",
       "    </tr>\n",
       "  </tbody>\n",
       "</table>\n",
       "</div>"
      ],
      "text/plain": [
       "  mikestartId mikeendId  duration  start_lat  start_long start_censustract  \\\n",
       "1     bibu101   bibu100        12  40.696078  -73.967684            054300   \n",
       "2     bibu106   bibu100         9  40.753307  -73.978567            009400   \n",
       "3     bibu108   bibu100         8  40.717117  -74.006062            003300   \n",
       "4     bibu109   bibu100        10  40.696508  -73.991280            000502   \n",
       "5      bibu11   bibu100         8  40.698154  -73.980527            021100   \n",
       "\n",
       "     end_lat   end_long end_censustract  distance  \n",
       "1  40.721974 -73.988963          003001  2.107982  \n",
       "2  40.721974 -73.988963          003001  2.232244  \n",
       "3  40.721974 -73.988963          003001  0.956258  \n",
       "4  40.721974 -73.988963          003001  1.763686  \n",
       "5  40.721974 -73.988963          003001  1.704060  "
      ]
     },
     "execution_count": 85,
     "metadata": {},
     "output_type": "execute_result"
    }
   ],
   "source": [
    "merged_duration_final['distance'] = distances\n",
    "merged_duration_final.head()"
   ]
  },
  {
   "cell_type": "code",
   "execution_count": null,
   "metadata": {
    "collapsed": true
   },
   "outputs": [],
   "source": [
    "merged_duration_final.shape"
   ]
  },
  {
   "cell_type": "code",
   "execution_count": null,
   "metadata": {
    "collapsed": true
   },
   "outputs": [],
   "source": [
    "merged_duration_final.to_csv('/Users/matthewdunn/Dropbox/NYU/Spring2016/BigData/GroupProject/data/mikeCTsAvgLatLonDist.csv')"
   ]
  },
  {
   "cell_type": "markdown",
   "metadata": {},
   "source": [
    "## Now Create the Bus Sheet for Map Reduce"
   ]
  },
  {
   "cell_type": "code",
   "execution_count": null,
   "metadata": {
    "collapsed": true
   },
   "outputs": [],
   "source": [
    "merged_raw = pd.read_csv('/Users/matthewdunn/Dropbox/NYU/Spring2016/BigData/GroupProject/data/mta_bus/mergedRoutesStops.csv')"
   ]
  },
  {
   "cell_type": "code",
   "execution_count": null,
   "metadata": {
    "collapsed": false
   },
   "outputs": [],
   "source": [
    "merged_raw.shape"
   ]
  },
  {
   "cell_type": "code",
   "execution_count": null,
   "metadata": {
    "collapsed": false
   },
   "outputs": [],
   "source": [
    "trips_dropped = merged_raw.drop(['Unnamed: 0', 'trip_id', 'start_lat', 'start_lon', 'end_lon', 'end_lat', 'arrival_time', 'departure_time'], axis=1)\n",
    "trips_dropped['end_location_id'] = trips_dropped['end_location_id'].astype(int)\n",
    "trips_dropped['start_mtaTypeStatId'] = 'bu'+trips_dropped['start_location_id'].astype(str)\n",
    "trips_dropped['end_mtaTypeStatId'] = 'bu'+trips_dropped['end_location_id'].astype(str)\n",
    "trips_dropped.drop(['end_location_id', 'start_location_id'], axis=1, inplace=True)\n",
    "print trips_dropped.head()\n",
    "trips_dropped.shape"
   ]
  },
  {
   "cell_type": "code",
   "execution_count": null,
   "metadata": {
    "collapsed": false
   },
   "outputs": [],
   "source": [
    "# Dedupe the Merge Key between MTA and Mikes ID\n",
    "joined_deduped = joined_dfs.drop_duplicates()\n",
    "print joined_deduped.head()\n",
    "# Create a Start Station Version\n",
    "startStation = joined_deduped[['mtaTypeStatId','lat','long','mikeStationId']].copy()\n",
    "startStation.columns = ['start_mtaTypeStatId','start_lat','start_long','start_mikeStationId']\n",
    "# Create an End Station Version\n",
    "endStation = joined_deduped[['mtaTypeStatId','lat','long','mikeStationId']].copy()\n",
    "endStation.columns = ['end_mtaTypeStatId','end_lat','end_long','end_mikeStationId']\n",
    "print endStation.head()"
   ]
  },
  {
   "cell_type": "code",
   "execution_count": null,
   "metadata": {
    "collapsed": false
   },
   "outputs": [],
   "source": [
    "# validating shit works\n",
    "# joined_deduped.loc[joined_deduped.id == '901N']\n",
    "# print any(joined_deduped.mtaTypeStatId == 'bu901N')\n",
    "# print any(startStation.start_mtaTypeStatId == '901N')"
   ]
  },
  {
   "cell_type": "code",
   "execution_count": null,
   "metadata": {
    "collapsed": false
   },
   "outputs": [],
   "source": [
    "final = pd.merge(trips_dropped, startStation, on='start_mtaTypeStatId', how='left')\n",
    "final2 = final.merge(endStation, how='left', left_on='end_mtaTypeStatId', right_on='end_mtaTypeStatId')\n",
    "final2.shape"
   ]
  },
  {
   "cell_type": "code",
   "execution_count": null,
   "metadata": {
    "collapsed": false
   },
   "outputs": [],
   "source": [
    "fianl2_dropped = final2.drop(['start_mtaTypeStatId', 'end_mtaTypeStatId', 'start_lat', 'start_long','end_lat', 'end_long'], axis=1)\n",
    "print fianl2_dropped.head()\n",
    "print fianl2_dropped.shape"
   ]
  },
  {
   "cell_type": "code",
   "execution_count": null,
   "metadata": {
    "collapsed": false
   },
   "outputs": [],
   "source": [
    "fianl2_dropped['key'] = fianl2_dropped['start_mikeStationId']+'_'+fianl2_dropped['end_mikeStationId']\n",
    "mapreduce = fianl2_dropped.drop(['start_mikeStationId', 'end_mikeStationId'], axis=1)\n",
    "mapreduce = mapreduce[['key', 'duration']]\n",
    "mapreduce['duration'] = mapreduce['duration']*60\n",
    "print mapreduce.head()\n",
    "print mapreduce.shape\n",
    "mapreduce.to_csv('/Users/matthewdunn/Dropbox/NYU/Spring2016/BigData/GroupProject/data/mta_bus/mapreduce.csv', index=False, header=False)"
   ]
  },
  {
   "cell_type": "markdown",
   "metadata": {},
   "source": [
    "### Used to write out small sample files"
   ]
  },
  {
   "cell_type": "code",
   "execution_count": null,
   "metadata": {
    "collapsed": false
   },
   "outputs": [],
   "source": [
    "shorter = pd.read_csv('/Users/matthewdunn/Dropbox/NYU/Spring2016/BigData/GroupProject/data/allPairDistancesBusTrain.csv', nrows=100)"
   ]
  },
  {
   "cell_type": "code",
   "execution_count": null,
   "metadata": {
    "collapsed": true
   },
   "outputs": [],
   "source": [
    "shorter.to_csv('/Users/matthewdunn/Dropbox/NYU/Spring2016/BigData/GroupProject/data/allPairDistancesBusTrain_100.csv', index=False)"
   ]
  },
  {
   "cell_type": "markdown",
   "metadata": {
    "collapsed": true
   },
   "source": [
    "## Now Create the Train Sheet for Map Reduce"
   ]
  },
  {
   "cell_type": "code",
   "execution_count": null,
   "metadata": {
    "collapsed": false
   },
   "outputs": [],
   "source": [
    "merged_raw_train = pd.read_csv('/Users/matthewdunn/Dropbox/NYU/Spring2016/BigData/GroupProject/data/mta_train/mergedTrainRoutesStops.csv')"
   ]
  },
  {
   "cell_type": "code",
   "execution_count": null,
   "metadata": {
    "collapsed": false
   },
   "outputs": [],
   "source": [
    "merged_raw_train.shape"
   ]
  },
  {
   "cell_type": "code",
   "execution_count": null,
   "metadata": {
    "collapsed": false
   },
   "outputs": [],
   "source": [
    "trips_dropped_train = merged_raw_train.drop(['Unnamed: 0', 'trip_id', 'start_lat', 'start_lon', 'end_lon', 'end_lat', 'arrival_time', 'departure_time'], axis=1)\n",
    "# trips_dropped_train['end_location_id'] = trips_dropped_train['end_location_id'].astype(int)\n",
    "trips_dropped_train['start_mtaTypeStatId'] = 'tr'+trips_dropped_train['start_location_id'].astype(str)\n",
    "trips_dropped_train['end_mtaTypeStatId'] = 'tr'+trips_dropped_train['end_location_id'].astype(str)\n",
    "trips_dropped_train.drop(['end_location_id', 'start_location_id'], axis=1, inplace=True)\n",
    "print trips_dropped_train.head()\n",
    "print trips_dropped_train.shape"
   ]
  },
  {
   "cell_type": "code",
   "execution_count": null,
   "metadata": {
    "collapsed": false
   },
   "outputs": [],
   "source": [
    "any(joined_dfs.mtaTypeStatId == 'tr901N')"
   ]
  },
  {
   "cell_type": "code",
   "execution_count": null,
   "metadata": {
    "collapsed": false
   },
   "outputs": [],
   "source": [
    "final_train = pd.merge(trips_dropped_train, startStation, on='start_mtaTypeStatId', how='left')\n",
    "final2_train = final_train.merge(endStation, how='left', left_on='end_mtaTypeStatId', right_on='end_mtaTypeStatId')\n",
    "final2_train.shape"
   ]
  },
  {
   "cell_type": "code",
   "execution_count": null,
   "metadata": {
    "collapsed": false
   },
   "outputs": [],
   "source": [
    "fianl2_train_dropped = final2_train.drop(['start_mtaTypeStatId', 'end_mtaTypeStatId', 'start_lat', 'start_long','end_lat', 'end_long'], axis=1)\n",
    "print fianl2_train_dropped.head()\n",
    "print fianl2_train_dropped.shape"
   ]
  },
  {
   "cell_type": "code",
   "execution_count": null,
   "metadata": {
    "collapsed": false
   },
   "outputs": [],
   "source": [
    "fianl2_train_dropped['key'] = fianl2_train_dropped['start_mikeStationId']+'_'+fianl2_train_dropped['end_mikeStationId']\n",
    "mapreduce_train = fianl2_train_dropped.drop(['start_mikeStationId', 'end_mikeStationId'], axis=1)\n",
    "mapreduce_train = mapreduce_train[['key', 'duration']]\n",
    "mapreduce_train['duration'] = mapreduce_train['duration']*60\n",
    "print mapreduce_train.head()\n",
    "print mapreduce_train.shape\n",
    "mapreduce_train.to_csv('/Users/matthewdunn/Dropbox/NYU/Spring2016/BigData/GroupProject/data/mta_train/mapreduce.csv', index=False, header=False)"
   ]
  },
  {
   "cell_type": "code",
   "execution_count": null,
   "metadata": {
    "collapsed": false
   },
   "outputs": [],
   "source": [
    "bus_train_map_reduce = pd.concat([mapreduce_train, mapreduce], ignore_index=True)"
   ]
  },
  {
   "cell_type": "code",
   "execution_count": null,
   "metadata": {
    "collapsed": false
   },
   "outputs": [],
   "source": [
    "print bus_train_map_reduce.head()\n",
    "print bus_train_map_reduce.shape\n",
    "bus_train_map_reduce.to_csv('/Users/matthewdunn/Dropbox/NYU/Spring2016/BigData/GroupProject/data/bus_train_mapreduce.csv', index=False, header=False)"
   ]
  },
  {
   "cell_type": "code",
   "execution_count": null,
   "metadata": {
    "collapsed": true
   },
   "outputs": [],
   "source": []
  }
 ],
 "metadata": {
  "kernelspec": {
   "display_name": "Python 2",
   "language": "python",
   "name": "python2"
  },
  "language_info": {
   "codemirror_mode": {
    "name": "ipython",
    "version": 2
   },
   "file_extension": ".py",
   "mimetype": "text/x-python",
   "name": "python",
   "nbconvert_exporter": "python",
   "pygments_lexer": "ipython2",
   "version": "2.7.11"
  }
 },
 "nbformat": 4,
 "nbformat_minor": 0
}
